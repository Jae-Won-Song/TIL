{
 "cells": [
  {
   "cell_type": "code",
   "execution_count": 21,
   "id": "ce942e5f",
   "metadata": {},
   "outputs": [
    {
     "name": "stdout",
     "output_type": "stream",
     "text": [
      "정수 입력>2\n"
     ]
    }
   ],
   "source": [
    "number = input('정수 입력>')"
   ]
  },
  {
   "cell_type": "code",
   "execution_count": 25,
   "id": "c8849afb",
   "metadata": {},
   "outputs": [
    {
     "name": "stdout",
     "output_type": "stream",
     "text": [
      "정수 입력>1189789\n"
     ]
    }
   ],
   "source": [
    "number = input('정수 입력>')\n",
    "last_character = number[-1]\n",
    "last_number = int(last_character)\n",
    "if last_number == 0 \\\n",
    "    or last_number == 2 \\\n",
    "    or last_number == 4 \\\n",
    "    or last_number == 6 \\\n",
    "    or last_number == 8:\n",
    "    print('짝수입니다')"
   ]
  },
  {
   "cell_type": "code",
   "execution_count": 11,
   "id": "91ad8a22",
   "metadata": {},
   "outputs": [
    {
     "name": "stdout",
     "output_type": "stream",
     "text": [
      "정수 입력>15547894\n",
      "짝수입니다\n"
     ]
    }
   ],
   "source": [
    "number = input('정수 입력>')\n",
    "last_character = number[-1]\n",
    "last_number = int(last_character)\n",
    "if last_number in (2, 4, 6, 8):\n",
    "    print('짝수입니다')\n",
    "else:\n",
    "    if last_number in (1, 3, 5, 7, 9):\n",
    "        print('홀수입니다')"
   ]
  },
  {
   "cell_type": "code",
   "execution_count": 12,
   "id": "6504b17d",
   "metadata": {},
   "outputs": [
    {
     "ename": "TypeError",
     "evalue": "'int' object is not callable",
     "output_type": "error",
     "traceback": [
      "\u001b[1;31m---------------------------------------------------------------------------\u001b[0m",
      "\u001b[1;31mTypeError\u001b[0m                                 Traceback (most recent call last)",
      "Cell \u001b[1;32mIn[12], line 2\u001b[0m\n\u001b[0;32m      1\u001b[0m \u001b[38;5;28mprint\u001b[39m\u001b[38;5;241m=\u001b[39m\u001b[38;5;241m1\u001b[39m\n\u001b[1;32m----> 2\u001b[0m \u001b[38;5;28;43mprint\u001b[39;49m\u001b[43m(\u001b[49m\u001b[38;5;124;43m'\u001b[39;49m\u001b[38;5;124;43masdf\u001b[39;49m\u001b[38;5;124;43m'\u001b[39;49m\u001b[43m)\u001b[49m\n",
      "\u001b[1;31mTypeError\u001b[0m: 'int' object is not callable"
     ]
    }
   ],
   "source": [
    "print=1\n",
    "print('asdf')"
   ]
  }
 ],
 "metadata": {
  "kernelspec": {
   "display_name": "Python 3 (ipykernel)",
   "language": "python",
   "name": "python3"
  },
  "language_info": {
   "codemirror_mode": {
    "name": "ipython",
    "version": 3
   },
   "file_extension": ".py",
   "mimetype": "text/x-python",
   "name": "python",
   "nbconvert_exporter": "python",
   "pygments_lexer": "ipython3",
   "version": "3.10.9"
  }
 },
 "nbformat": 4,
 "nbformat_minor": 5
}
