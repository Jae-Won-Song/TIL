{
 "cells": [
  {
   "cell_type": "code",
   "execution_count": 2,
   "id": "6e7ae587",
   "metadata": {},
   "outputs": [
    {
     "name": "stdout",
     "output_type": "stream",
     "text": [
      "1.0.2\n"
     ]
    }
   ],
   "source": [
    "# 사이킷런 버전 확인\n",
    "import sklearn\n",
    "print(sklearn.__version__)\n"
   ]
  },
  {
   "cell_type": "markdown",
   "id": "6af8e0b2",
   "metadata": {},
   "source": [
    "# 데이터셋 정의 - iris_data()"
   ]
  },
  {
   "cell_type": "code",
   "execution_count": 20,
   "id": "e313771e",
   "metadata": {},
   "outputs": [
    {
     "data": {
      "text/html": [
       "<div>\n",
       "<style scoped>\n",
       "    .dataframe tbody tr th:only-of-type {\n",
       "        vertical-align: middle;\n",
       "    }\n",
       "\n",
       "    .dataframe tbody tr th {\n",
       "        vertical-align: top;\n",
       "    }\n",
       "\n",
       "    .dataframe thead th {\n",
       "        text-align: right;\n",
       "    }\n",
       "</style>\n",
       "<table border=\"1\" class=\"dataframe\">\n",
       "  <thead>\n",
       "    <tr style=\"text-align: right;\">\n",
       "      <th></th>\n",
       "      <th>sep.len</th>\n",
       "      <th>sep.wid</th>\n",
       "      <th>pet.len</th>\n",
       "      <th>pet.wid</th>\n",
       "      <th>label</th>\n",
       "    </tr>\n",
       "  </thead>\n",
       "  <tbody>\n",
       "    <tr>\n",
       "      <th>0</th>\n",
       "      <td>5.1</td>\n",
       "      <td>3.5</td>\n",
       "      <td>1.4</td>\n",
       "      <td>0.2</td>\n",
       "      <td>0</td>\n",
       "    </tr>\n",
       "    <tr>\n",
       "      <th>1</th>\n",
       "      <td>4.9</td>\n",
       "      <td>3.0</td>\n",
       "      <td>1.4</td>\n",
       "      <td>0.2</td>\n",
       "      <td>0</td>\n",
       "    </tr>\n",
       "    <tr>\n",
       "      <th>2</th>\n",
       "      <td>4.7</td>\n",
       "      <td>3.2</td>\n",
       "      <td>1.3</td>\n",
       "      <td>0.2</td>\n",
       "      <td>0</td>\n",
       "    </tr>\n",
       "    <tr>\n",
       "      <th>3</th>\n",
       "      <td>4.6</td>\n",
       "      <td>3.1</td>\n",
       "      <td>1.5</td>\n",
       "      <td>0.2</td>\n",
       "      <td>0</td>\n",
       "    </tr>\n",
       "    <tr>\n",
       "      <th>4</th>\n",
       "      <td>5.0</td>\n",
       "      <td>3.6</td>\n",
       "      <td>1.4</td>\n",
       "      <td>0.2</td>\n",
       "      <td>0</td>\n",
       "    </tr>\n",
       "    <tr>\n",
       "      <th>...</th>\n",
       "      <td>...</td>\n",
       "      <td>...</td>\n",
       "      <td>...</td>\n",
       "      <td>...</td>\n",
       "      <td>...</td>\n",
       "    </tr>\n",
       "    <tr>\n",
       "      <th>145</th>\n",
       "      <td>6.7</td>\n",
       "      <td>3.0</td>\n",
       "      <td>5.2</td>\n",
       "      <td>2.3</td>\n",
       "      <td>2</td>\n",
       "    </tr>\n",
       "    <tr>\n",
       "      <th>146</th>\n",
       "      <td>6.3</td>\n",
       "      <td>2.5</td>\n",
       "      <td>5.0</td>\n",
       "      <td>1.9</td>\n",
       "      <td>2</td>\n",
       "    </tr>\n",
       "    <tr>\n",
       "      <th>147</th>\n",
       "      <td>6.5</td>\n",
       "      <td>3.0</td>\n",
       "      <td>5.2</td>\n",
       "      <td>2.0</td>\n",
       "      <td>2</td>\n",
       "    </tr>\n",
       "    <tr>\n",
       "      <th>148</th>\n",
       "      <td>6.2</td>\n",
       "      <td>3.4</td>\n",
       "      <td>5.4</td>\n",
       "      <td>2.3</td>\n",
       "      <td>2</td>\n",
       "    </tr>\n",
       "    <tr>\n",
       "      <th>149</th>\n",
       "      <td>5.9</td>\n",
       "      <td>3.0</td>\n",
       "      <td>5.1</td>\n",
       "      <td>1.8</td>\n",
       "      <td>2</td>\n",
       "    </tr>\n",
       "  </tbody>\n",
       "</table>\n",
       "<p>150 rows × 5 columns</p>\n",
       "</div>"
      ],
      "text/plain": [
       "     sep.len  sep.wid  pet.len  pet.wid  label\n",
       "0        5.1      3.5      1.4      0.2      0\n",
       "1        4.9      3.0      1.4      0.2      0\n",
       "2        4.7      3.2      1.3      0.2      0\n",
       "3        4.6      3.1      1.5      0.2      0\n",
       "4        5.0      3.6      1.4      0.2      0\n",
       "..       ...      ...      ...      ...    ...\n",
       "145      6.7      3.0      5.2      2.3      2\n",
       "146      6.3      2.5      5.0      1.9      2\n",
       "147      6.5      3.0      5.2      2.0      2\n",
       "148      6.2      3.4      5.4      2.3      2\n",
       "149      5.9      3.0      5.1      1.8      2\n",
       "\n",
       "[150 rows x 5 columns]"
      ]
     },
     "execution_count": 20,
     "metadata": {},
     "output_type": "execute_result"
    }
   ],
   "source": [
    "import pandas as pd\n",
    "import numpy as np\n",
    "from sklearn.datasets import load_iris\n",
    "iris = load_iris()\n",
    "X_featrues = iris.data\n",
    "y_label = iris.target\n",
    "\n",
    "col_names = ['sep.len', 'sep.wid', 'pet.len', 'pet.wid']\n",
    "iris_df=  pd.DataFrame(data = X_featrues, columns = col_names)\n",
    "iris_df['label'] = y_label\n",
    "\n",
    "iris_df"
   ]
  },
  {
   "cell_type": "markdown",
   "id": "69c5d066",
   "metadata": {},
   "source": [
    "학습용 데이터와 테스트용 데이터를 분리해보자. (훈련용 데이터와 테스트용 데이터는 반드시 분리를 한다)"
   ]
  },
  {
   "cell_type": "code",
   "execution_count": 19,
   "id": "2505f871",
   "metadata": {},
   "outputs": [],
   "source": [
    "from sklearn.model_selection import train_test_split"
   ]
  },
  {
   "cell_type": "code",
   "execution_count": 51,
   "id": "e21534c8",
   "metadata": {},
   "outputs": [],
   "source": [
    "# train_test_split의 용례\n",
    "array1 = np.arange(1,11)\n",
    "array_train, array_test = train_test_split(array1, test_size=0.2, random_state=11)"
   ]
  },
  {
   "cell_type": "code",
   "execution_count": 63,
   "id": "8bb55881",
   "metadata": {},
   "outputs": [],
   "source": [
    "X_train, X_test = train_test_split(X_featrues, test_size=0.2, random_state=11)\n",
    "y_train, y_test = train_test_split(y_label, test_size=0.2, random_state=11)"
   ]
  },
  {
   "cell_type": "code",
   "execution_count": null,
   "id": "6cbf9bf0",
   "metadata": {},
   "outputs": [],
   "source": [
    "# 각 쓰일 데이터들의 shape확인"
   ]
  },
  {
   "cell_type": "code",
   "execution_count": 61,
   "id": "2c77123b",
   "metadata": {
    "scrolled": true
   },
   "outputs": [
    {
     "data": {
      "text/plain": [
       "((120, 4), (30, 4))"
      ]
     },
     "execution_count": 61,
     "metadata": {},
     "output_type": "execute_result"
    }
   ],
   "source": [
    "X_train.shape, X_test.shape"
   ]
  },
  {
   "cell_type": "code",
   "execution_count": 62,
   "id": "04228223",
   "metadata": {},
   "outputs": [
    {
     "data": {
      "text/plain": [
       "((120,), (30,))"
      ]
     },
     "execution_count": 62,
     "metadata": {},
     "output_type": "execute_result"
    }
   ],
   "source": [
    "y_train.shape, y_test.shape"
   ]
  },
  {
   "cell_type": "code",
   "execution_count": 68,
   "id": "09a3db58",
   "metadata": {},
   "outputs": [],
   "source": [
    "# 실무와 현실에서 사용하는 코드\n",
    "\n",
    "X_train, X_test, y_train, y_test = train_test_split(X_featrues,y_label, test_size=0.2, random_state=11)"
   ]
  },
  {
   "cell_type": "code",
   "execution_count": 70,
   "id": "fa10f889",
   "metadata": {},
   "outputs": [
    {
     "data": {
      "text/plain": [
       "[     sep.len  sep.wid  pet.len  pet.wid  label\n",
       " 0        5.1      3.5      1.4      0.2      0\n",
       " 120      6.9      3.2      5.7      2.3      2\n",
       " 122      7.7      2.8      6.7      2.0      2\n",
       " 49       5.0      3.3      1.4      0.2      0\n",
       " 29       4.7      3.2      1.6      0.2      0\n",
       " ..       ...      ...      ...      ...    ...\n",
       " 76       6.8      2.8      4.8      1.4      1\n",
       " 13       4.3      3.0      1.1      0.1      0\n",
       " 81       5.5      2.4      3.7      1.0      1\n",
       " 91       6.1      3.0      4.6      1.4      1\n",
       " 80       5.5      2.4      3.8      1.1      1\n",
       " \n",
       " [120 rows x 5 columns],\n",
       "      sep.len  sep.wid  pet.len  pet.wid  label\n",
       " 112      6.8      3.0      5.5      2.1      2\n",
       " 145      6.7      3.0      5.2      2.3      2\n",
       " 133      6.3      2.8      5.1      1.5      2\n",
       " 56       6.3      3.3      4.7      1.6      1\n",
       " 111      6.4      2.7      5.3      1.9      2\n",
       " 9        4.9      3.1      1.5      0.1      0\n",
       " 65       6.7      3.1      4.4      1.4      1\n",
       " 15       5.7      4.4      1.5      0.4      0\n",
       " 30       4.8      3.1      1.6      0.2      0\n",
       " 63       6.1      2.9      4.7      1.4      1\n",
       " 119      6.0      2.2      5.0      1.5      2\n",
       " 62       6.0      2.2      4.0      1.0      1\n",
       " 84       5.4      3.0      4.5      1.5      1\n",
       " 113      5.7      2.5      5.0      2.0      2\n",
       " 139      6.9      3.1      5.4      2.1      2\n",
       " 41       4.5      2.3      1.3      0.3      0\n",
       " 103      6.3      2.9      5.6      1.8      2\n",
       " 66       5.6      3.0      4.5      1.5      1\n",
       " 110      6.5      3.2      5.1      2.0      2\n",
       " 142      5.8      2.7      5.1      1.9      2\n",
       " 69       5.6      2.5      3.9      1.1      1\n",
       " 2        4.7      3.2      1.3      0.2      0\n",
       " 22       4.6      3.6      1.0      0.2      0\n",
       " 51       6.4      3.2      4.5      1.5      1\n",
       " 12       4.8      3.0      1.4      0.1      0\n",
       " 11       4.8      3.4      1.6      0.2      0\n",
       " 149      5.9      3.0      5.1      1.8      2\n",
       " 75       6.6      3.0      4.4      1.4      1\n",
       " 16       5.4      3.9      1.3      0.4      0\n",
       " 85       6.0      3.4      4.5      1.6      1]"
      ]
     },
     "execution_count": 70,
     "metadata": {},
     "output_type": "execute_result"
    }
   ],
   "source": [
    "train_test_split(iris_df, test_size=0.2, random_state=11)"
   ]
  },
  {
   "cell_type": "code",
   "execution_count": 65,
   "id": "bac07336",
   "metadata": {},
   "outputs": [],
   "source": [
    "# 쓰일 알고리즘 loading - 의사결정나무(DecisionTreeClassifier)\n",
    "# Black - Box\n",
    "from sklearn.tree import DecisionTreeClassifier"
   ]
  },
  {
   "cell_type": "code",
   "execution_count": 71,
   "id": "3efd20c4",
   "metadata": {},
   "outputs": [],
   "source": [
    "# 의사결정나무(알고리즘) 객체화\n",
    "dt_clf = DecisionTreeClassifier(random_state=11)"
   ]
  },
  {
   "cell_type": "code",
   "execution_count": 72,
   "id": "c67ac791",
   "metadata": {},
   "outputs": [
    {
     "data": {
      "text/plain": [
       "DecisionTreeClassifier(random_state=11)"
      ]
     },
     "execution_count": 72,
     "metadata": {},
     "output_type": "execute_result"
    }
   ],
   "source": [
    "# 학습을 수행 fit()-estimator => 적합시키다\n",
    "dt_clf.fit(X_train, y_train) # 전체데이터 중 150 => 120개 학습에 적용"
   ]
  },
  {
   "cell_type": "code",
   "execution_count": 75,
   "id": "acb44d61",
   "metadata": {},
   "outputs": [],
   "source": [
    "# 학습된 dt_clf 모델을 토대로 분류예측수행 X_test값만 넣는다. => .predict()\n",
    "y_pred = dt_clf.predict(X_test) # 30개만 현재 데이터에 예측의 재료로 사용"
   ]
  },
  {
   "cell_type": "code",
   "execution_count": 76,
   "id": "e55949e9",
   "metadata": {},
   "outputs": [
    {
     "data": {
      "text/plain": [
       "array([2, 2, 1, 1, 2, 0, 1, 0, 0, 1, 1, 1, 1, 2, 2, 0, 2, 1, 2, 2, 1, 0,\n",
       "       0, 1, 0, 0, 2, 1, 0, 1])"
      ]
     },
     "execution_count": 76,
     "metadata": {},
     "output_type": "execute_result"
    }
   ],
   "source": [
    "y_pred # 예측값"
   ]
  },
  {
   "cell_type": "code",
   "execution_count": 77,
   "id": "7ab93bbe",
   "metadata": {
    "scrolled": true
   },
   "outputs": [
    {
     "data": {
      "text/plain": [
       "array([2, 2, 2, 1, 2, 0, 1, 0, 0, 1, 2, 1, 1, 2, 2, 0, 2, 1, 2, 2, 1, 0,\n",
       "       0, 1, 0, 0, 2, 1, 0, 1])"
      ]
     },
     "execution_count": 77,
     "metadata": {},
     "output_type": "execute_result"
    }
   ],
   "source": [
    "y_test # 실제값"
   ]
  },
  {
   "cell_type": "code",
   "execution_count": null,
   "id": "039fc421",
   "metadata": {},
   "outputs": [],
   "source": [
    "# 예측값과 실제값 2개 틀림"
   ]
  },
  {
   "cell_type": "code",
   "execution_count": 78,
   "id": "357bd214",
   "metadata": {},
   "outputs": [],
   "source": [
    "# 평가 지표 호출\n",
    "from sklearn.metrics import accuracy_score as acc_sc"
   ]
  },
  {
   "cell_type": "code",
   "execution_count": 80,
   "id": "bab5aa88",
   "metadata": {},
   "outputs": [
    {
     "data": {
      "text/plain": [
       "0.9333333333333333"
      ]
     },
     "execution_count": 80,
     "metadata": {},
     "output_type": "execute_result"
    }
   ],
   "source": [
    "# 예측정확도\n",
    "acc_sc(y_test, y_pred)"
   ]
  }
 ],
 "metadata": {
  "kernelspec": {
   "display_name": "Python 3 (ipykernel)",
   "language": "python",
   "name": "python3"
  },
  "language_info": {
   "codemirror_mode": {
    "name": "ipython",
    "version": 3
   },
   "file_extension": ".py",
   "mimetype": "text/x-python",
   "name": "python",
   "nbconvert_exporter": "python",
   "pygments_lexer": "ipython3",
   "version": "3.9.13"
  }
 },
 "nbformat": 4,
 "nbformat_minor": 5
}
