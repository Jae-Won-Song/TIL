{
 "cells": [
  {
   "cell_type": "markdown",
   "id": "821733bc",
   "metadata": {},
   "source": [
    "# 행렬의 정렬 -sort()와 argsort()"
   ]
  },
  {
   "cell_type": "code",
   "execution_count": 7,
   "id": "90ca1049",
   "metadata": {},
   "outputs": [],
   "source": [
    "import numpy as np"
   ]
  },
  {
   "cell_type": "code",
   "execution_count": 2,
   "id": "0a1c8dcf",
   "metadata": {},
   "outputs": [
    {
     "name": "stdout",
     "output_type": "stream",
     "text": [
      "원본 행렬 [3 1 9 5]\n"
     ]
    }
   ],
   "source": [
    "org_array = np.array([3, 1, 9, 5])\n",
    "print('원본 행렬', org_array)"
   ]
  },
  {
   "cell_type": "code",
   "execution_count": 4,
   "id": "ee87940e",
   "metadata": {},
   "outputs": [
    {
     "name": "stdout",
     "output_type": "stream",
     "text": [
      "np.sort()호출후 반환된 정렬행렬 [1 3 5 9]\n",
      "np.sort()호출 후 반환된 원본행렬 [3 1 9 5]\n"
     ]
    }
   ],
   "source": [
    "# np.sort()로 정렬 (원본 불변)\n",
    "sort_array1 = np.sort(org_array)\n",
    "print('np.sort()호출후 반환된 정렬행렬', sort_array1)\n",
    "print('np.sort()호출 후 반환된 원본행렬', org_array)"
   ]
  },
  {
   "cell_type": "code",
   "execution_count": 5,
   "id": "94041966",
   "metadata": {
    "scrolled": true
   },
   "outputs": [
    {
     "name": "stdout",
     "output_type": "stream",
     "text": [
      "sort() 만 적용후 반환된 정렬행렬 None\n",
      "sort() 만 적용후 반환된 원본행렬 [1 3 5 9]\n"
     ]
    }
   ],
   "source": [
    "# np.sort()로 정렬 (원본 변함)\n",
    "sort_array1 = org_array.sort()\n",
    "print('sort() 만 적용후 반환된 정렬행렬', sort_array1)\n",
    "print('sort() 만 적용후 반환된 원본행렬', org_array)"
   ]
  },
  {
   "cell_type": "code",
   "execution_count": null,
   "id": "7ad012bd",
   "metadata": {},
   "outputs": [],
   "source": [
    "# 내림차순 정렬 => [:: -1]"
   ]
  },
  {
   "cell_type": "code",
   "execution_count": 11,
   "id": "9f7f3921",
   "metadata": {},
   "outputs": [
    {
     "data": {
      "text/plain": [
       "array([9, 5, 3, 1])"
      ]
     },
     "execution_count": 11,
     "metadata": {},
     "output_type": "execute_result"
    }
   ],
   "source": [
    "np.sort(org_array)[:: -1]"
   ]
  },
  {
   "cell_type": "code",
   "execution_count": null,
   "id": "de5b548d",
   "metadata": {},
   "outputs": [],
   "source": [
    "# axis 에 따른 정렬"
   ]
  },
  {
   "cell_type": "code",
   "execution_count": 17,
   "id": "1ae384c5",
   "metadata": {},
   "outputs": [
    {
     "name": "stdout",
     "output_type": "stream",
     "text": [
      "로우 방향으로 정렬:\n",
      " [[ 7  1]\n",
      " [ 8 12]]\n",
      "컬럼 방향으로 정렬:\n",
      " [[ 8 12]\n",
      " [ 1  7]]\n"
     ]
    }
   ],
   "source": [
    "array2d = np.array([[8,12],\n",
    "                   [7,1]])\n",
    "sort_array2d_ax0 = np.sort(array2d, axis=0)\n",
    "print('로우 방향으로 정렬:\\n', sort_array2d_ax0)\n",
    "\n",
    "sort_array2d_ax1 = np.sort(array2d, axis=1)\n",
    "print('컬럼 방향으로 정렬:\\n', sort_array2d_ax1)"
   ]
  },
  {
   "cell_type": "markdown",
   "id": "c27f3bfc",
   "metadata": {},
   "source": [
    "# argsort() 함수 : 정렬된 행렬의 인덱스 변환"
   ]
  },
  {
   "cell_type": "code",
   "execution_count": 18,
   "id": "553b6aae",
   "metadata": {},
   "outputs": [
    {
     "name": "stdout",
     "output_type": "stream",
     "text": [
      "<class 'numpy.ndarray'>\n",
      "행렬 정렬 후 원본행렬의 인덱스: [1 0 3 2]\n"
     ]
    }
   ],
   "source": [
    "org_array = np.array([3,1,9,5]) # --> 1 3 9 5\n",
    "                   #  0 1 2 3   #     1 0 3 2\n",
    "sort_indices = np.argsort(org_array)\n",
    "print(type(sort_indices))\n",
    "print('행렬 정렬 후 원본행렬의 인덱스:', sort_indices)"
   ]
  },
  {
   "cell_type": "markdown",
   "id": "d8218a7c",
   "metadata": {},
   "source": [
    "## 행렬의 내적 => 행렬의 곱"
   ]
  },
  {
   "cell_type": "code",
   "execution_count": 19,
   "id": "4afa01bc",
   "metadata": {},
   "outputs": [
    {
     "data": {
      "text/plain": [
       "array([[ 58,  64],\n",
       "       [139, 154]])"
      ]
     },
     "execution_count": 19,
     "metadata": {},
     "output_type": "execute_result"
    }
   ],
   "source": [
    "A = np.array([[1, 2, 3],\n",
    "             [4, 5, 6]])\n",
    "\n",
    "B = np.array([[7, 8],\n",
    "             [9, 10],\n",
    "             [11, 12]\n",
    "             ])\n",
    "\n",
    "np.dot(A, B)"
   ]
  },
  {
   "cell_type": "markdown",
   "id": "f2705994",
   "metadata": {},
   "source": [
    "### 전치행렬(Transpose)"
   ]
  },
  {
   "cell_type": "code",
   "execution_count": 21,
   "id": "939183fc",
   "metadata": {},
   "outputs": [
    {
     "data": {
      "text/plain": [
       "array([[1, 3, 5],\n",
       "       [2, 4, 6]])"
      ]
     },
     "execution_count": 21,
     "metadata": {},
     "output_type": "execute_result"
    }
   ],
   "source": [
    "A = np.array([[1,2],\n",
    "             [3,4]])\n",
    "\n",
    "transpose_A = np.transpose(A)\n",
    "transpose_A\n",
    "\n",
    "B = np.array([[1,2],\n",
    "             [3,4],\n",
    "             [5,6]])\n",
    "\n",
    "transpose_B = np.transpose(B)\n",
    "transpose_B\n"
   ]
  },
  {
   "cell_type": "markdown",
   "id": "6ac95285",
   "metadata": {},
   "source": [
    "# Pandas - index"
   ]
  },
  {
   "cell_type": "code",
   "execution_count": 22,
   "id": "c2edecf9",
   "metadata": {},
   "outputs": [],
   "source": [
    "data = {'Name':['Chulmin','Eunkyoung','Jiwoong','Soobeom'],\n",
    "        'Year':[2011,2016,2015,2015],\n",
    "        'Gender':['Male','Female','Male','Male'],\n",
    "        }"
   ]
  },
  {
   "cell_type": "code",
   "execution_count": 23,
   "id": "91861a78",
   "metadata": {},
   "outputs": [],
   "source": [
    "import pandas as pd"
   ]
  },
  {
   "cell_type": "code",
   "execution_count": 26,
   "id": "7568ebcd",
   "metadata": {},
   "outputs": [
    {
     "data": {
      "text/html": [
       "<div>\n",
       "<style scoped>\n",
       "    .dataframe tbody tr th:only-of-type {\n",
       "        vertical-align: middle;\n",
       "    }\n",
       "\n",
       "    .dataframe tbody tr th {\n",
       "        vertical-align: top;\n",
       "    }\n",
       "\n",
       "    .dataframe thead th {\n",
       "        text-align: right;\n",
       "    }\n",
       "</style>\n",
       "<table border=\"1\" class=\"dataframe\">\n",
       "  <thead>\n",
       "    <tr style=\"text-align: right;\">\n",
       "      <th></th>\n",
       "      <th>Name</th>\n",
       "      <th>Year</th>\n",
       "      <th>Gender</th>\n",
       "    </tr>\n",
       "  </thead>\n",
       "  <tbody>\n",
       "    <tr>\n",
       "      <th>one</th>\n",
       "      <td>Chulmin</td>\n",
       "      <td>2011</td>\n",
       "      <td>Male</td>\n",
       "    </tr>\n",
       "    <tr>\n",
       "      <th>two</th>\n",
       "      <td>Eunkyoung</td>\n",
       "      <td>2016</td>\n",
       "      <td>Female</td>\n",
       "    </tr>\n",
       "    <tr>\n",
       "      <th>three</th>\n",
       "      <td>Jiwoong</td>\n",
       "      <td>2015</td>\n",
       "      <td>Male</td>\n",
       "    </tr>\n",
       "    <tr>\n",
       "      <th>four</th>\n",
       "      <td>Soobeom</td>\n",
       "      <td>2015</td>\n",
       "      <td>Male</td>\n",
       "    </tr>\n",
       "  </tbody>\n",
       "</table>\n",
       "</div>"
      ],
      "text/plain": [
       "            Name  Year  Gender\n",
       "one      Chulmin  2011    Male\n",
       "two    Eunkyoung  2016  Female\n",
       "three    Jiwoong  2015    Male\n",
       "four     Soobeom  2015    Male"
      ]
     },
     "execution_count": 26,
     "metadata": {},
     "output_type": "execute_result"
    }
   ],
   "source": [
    "data_df = pd.DataFrame(data, index = ['one', 'two', 'three', 'four'])\n",
    "data_df"
   ]
  },
  {
   "cell_type": "code",
   "execution_count": 27,
   "id": "ba3187c3",
   "metadata": {},
   "outputs": [],
   "source": [
    "# 인덱싱 시작\n",
    "# 1. 컬럼명"
   ]
  },
  {
   "cell_type": "code",
   "execution_count": 32,
   "id": "c842e5c8",
   "metadata": {
    "scrolled": false
   },
   "outputs": [
    {
     "data": {
      "text/plain": [
       "one        Chulmin\n",
       "two      Eunkyoung\n",
       "three      Jiwoong\n",
       "four       Soobeom\n",
       "Name: Name, dtype: object"
      ]
     },
     "execution_count": 32,
     "metadata": {},
     "output_type": "execute_result"
    }
   ],
   "source": [
    "data_df['Name']"
   ]
  },
  {
   "cell_type": "code",
   "execution_count": null,
   "id": "77ab2de2",
   "metadata": {},
   "outputs": [],
   "source": [
    "# 인덱싱 시작\n",
    "# 1-1 행은 슬라이싱으로만"
   ]
  },
  {
   "cell_type": "code",
   "execution_count": 35,
   "id": "fca76f00",
   "metadata": {},
   "outputs": [
    {
     "data": {
      "text/html": [
       "<div>\n",
       "<style scoped>\n",
       "    .dataframe tbody tr th:only-of-type {\n",
       "        vertical-align: middle;\n",
       "    }\n",
       "\n",
       "    .dataframe tbody tr th {\n",
       "        vertical-align: top;\n",
       "    }\n",
       "\n",
       "    .dataframe thead th {\n",
       "        text-align: right;\n",
       "    }\n",
       "</style>\n",
       "<table border=\"1\" class=\"dataframe\">\n",
       "  <thead>\n",
       "    <tr style=\"text-align: right;\">\n",
       "      <th></th>\n",
       "      <th>Name</th>\n",
       "      <th>Year</th>\n",
       "      <th>Gender</th>\n",
       "    </tr>\n",
       "  </thead>\n",
       "  <tbody>\n",
       "    <tr>\n",
       "      <th>one</th>\n",
       "      <td>Chulmin</td>\n",
       "      <td>2011</td>\n",
       "      <td>Male</td>\n",
       "    </tr>\n",
       "    <tr>\n",
       "      <th>two</th>\n",
       "      <td>Eunkyoung</td>\n",
       "      <td>2016</td>\n",
       "      <td>Female</td>\n",
       "    </tr>\n",
       "    <tr>\n",
       "      <th>three</th>\n",
       "      <td>Jiwoong</td>\n",
       "      <td>2015</td>\n",
       "      <td>Male</td>\n",
       "    </tr>\n",
       "  </tbody>\n",
       "</table>\n",
       "</div>"
      ],
      "text/plain": [
       "            Name  Year  Gender\n",
       "one      Chulmin  2011    Male\n",
       "two    Eunkyoung  2016  Female\n",
       "three    Jiwoong  2015    Male"
      ]
     },
     "execution_count": 35,
     "metadata": {},
     "output_type": "execute_result"
    }
   ],
   "source": [
    "data_df[0:3]"
   ]
  },
  {
   "cell_type": "code",
   "execution_count": null,
   "id": "c506c83f",
   "metadata": {},
   "outputs": [],
   "source": [
    "# 단일값을 불러오기\n",
    "# 1. iloc(Positional-위치)\n",
    "# 2. loc(Label::명칭)"
   ]
  },
  {
   "cell_type": "code",
   "execution_count": 46,
   "id": "5d6d4423",
   "metadata": {},
   "outputs": [
    {
     "data": {
      "text/plain": [
       "'Jiwoong'"
      ]
     },
     "execution_count": 46,
     "metadata": {},
     "output_type": "execute_result"
    }
   ],
   "source": [
    "data_df.loc['three','Name'] # loc\n",
    "\n",
    "data_df.iloc[2,0] # iloc"
   ]
  },
  {
   "cell_type": "code",
   "execution_count": 53,
   "id": "623af7eb",
   "metadata": {},
   "outputs": [
    {
     "name": "stdout",
     "output_type": "stream",
     "text": [
      "          Name  Year\n",
      "one    Chulmin  2011\n",
      "two  Eunkyoung  2016\n",
      "          Name  Year\n",
      "one    Chulmin  2011\n",
      "two  Eunkyoung  2016\n",
      "          Name  Year\n",
      "one    Chulmin  2011\n",
      "two  Eunkyoung  2016\n"
     ]
    }
   ],
   "source": [
    "# 연습\n",
    "print(data_df.iloc[0:2,0:2])\n",
    "print(data_df.iloc[0:2,[0,1]])\n",
    "print(data_df.loc['one':'two','Name':'Year'])"
   ]
  },
  {
   "cell_type": "code",
   "execution_count": 54,
   "id": "5903a803",
   "metadata": {},
   "outputs": [
    {
     "data": {
      "text/plain": [
       "one      2011\n",
       "two      2016\n",
       "three    2015\n",
       "four     2015\n",
       "Name: Year, dtype: int64"
      ]
     },
     "execution_count": 54,
     "metadata": {},
     "output_type": "execute_result"
    }
   ],
   "source": [
    "data_df['Year']"
   ]
  },
  {
   "cell_type": "code",
   "execution_count": 55,
   "id": "22610b7e",
   "metadata": {},
   "outputs": [
    {
     "data": {
      "text/plain": [
       "one      False\n",
       "two       True\n",
       "three     True\n",
       "four      True\n",
       "Name: Year, dtype: bool"
      ]
     },
     "execution_count": 55,
     "metadata": {},
     "output_type": "execute_result"
    }
   ],
   "source": [
    "data_df.Year>2014"
   ]
  },
  {
   "cell_type": "code",
   "execution_count": 58,
   "id": "fc94e415",
   "metadata": {},
   "outputs": [
    {
     "data": {
      "text/html": [
       "<div>\n",
       "<style scoped>\n",
       "    .dataframe tbody tr th:only-of-type {\n",
       "        vertical-align: middle;\n",
       "    }\n",
       "\n",
       "    .dataframe tbody tr th {\n",
       "        vertical-align: top;\n",
       "    }\n",
       "\n",
       "    .dataframe thead th {\n",
       "        text-align: right;\n",
       "    }\n",
       "</style>\n",
       "<table border=\"1\" class=\"dataframe\">\n",
       "  <thead>\n",
       "    <tr style=\"text-align: right;\">\n",
       "      <th></th>\n",
       "      <th>Name</th>\n",
       "      <th>Year</th>\n",
       "      <th>Gender</th>\n",
       "    </tr>\n",
       "  </thead>\n",
       "  <tbody>\n",
       "    <tr>\n",
       "      <th>two</th>\n",
       "      <td>Eunkyoung</td>\n",
       "      <td>2016</td>\n",
       "      <td>Female</td>\n",
       "    </tr>\n",
       "    <tr>\n",
       "      <th>three</th>\n",
       "      <td>Jiwoong</td>\n",
       "      <td>2015</td>\n",
       "      <td>Male</td>\n",
       "    </tr>\n",
       "  </tbody>\n",
       "</table>\n",
       "</div>"
      ],
      "text/plain": [
       "            Name  Year  Gender\n",
       "two    Eunkyoung  2016  Female\n",
       "three    Jiwoong  2015    Male"
      ]
     },
     "execution_count": 58,
     "metadata": {},
     "output_type": "execute_result"
    }
   ],
   "source": [
    "data_df.loc[data_df['Year']>2014][:2]"
   ]
  },
  {
   "cell_type": "code",
   "execution_count": 69,
   "id": "f4ac2d63",
   "metadata": {},
   "outputs": [
    {
     "name": "stdout",
     "output_type": "stream",
     "text": [
      "RangeIndex(start=0, stop=891, step=1)\n",
      "Index 객체 array값:\n",
      " [0 1 2 3 4]\n"
     ]
    }
   ],
   "source": [
    "## titanic data index\n",
    "titan_df = pd.read_csv('C:/Users/송재원/Desktop/jwsong/23-01-30/titanic/train.csv')\n",
    "titan_df\n",
    "\n",
    "### 인덱스 객체 추출\n",
    "Indexes = titan_df.index\n",
    "print(Indexes)\n",
    "\n",
    "\n",
    "### 인덱스 객체를 실제 값 array 로 변환\n",
    "print('Index 객체 array값:\\n', Indexes.values[:5])"
   ]
  },
  {
   "cell_type": "code",
   "execution_count": 71,
   "id": "a9d3bf53",
   "metadata": {},
   "outputs": [
    {
     "name": "stdout",
     "output_type": "stream",
     "text": [
      "<class 'numpy.ndarray'>\n",
      "(891,)\n"
     ]
    }
   ],
   "source": [
    "print(type(Indexes.values))\n",
    "print(Indexes.values.shape)"
   ]
  },
  {
   "cell_type": "code",
   "execution_count": 76,
   "id": "b0097f29",
   "metadata": {},
   "outputs": [
    {
     "ename": "TypeError",
     "evalue": "Index does not support mutable operations",
     "output_type": "error",
     "traceback": [
      "\u001b[1;31m---------------------------------------------------------------------------\u001b[0m",
      "\u001b[1;31mTypeError\u001b[0m                                 Traceback (most recent call last)",
      "\u001b[1;32m~\\AppData\\Local\\Temp\\ipykernel_16372\\2485832222.py\u001b[0m in \u001b[0;36m<module>\u001b[1;34m\u001b[0m\n\u001b[1;32m----> 1\u001b[1;33m \u001b[0mIndexes\u001b[0m\u001b[1;33m[\u001b[0m\u001b[1;36m0\u001b[0m\u001b[1;33m]\u001b[0m\u001b[1;33m=\u001b[0m\u001b[1;36m1000\u001b[0m\u001b[1;33m\u001b[0m\u001b[1;33m\u001b[0m\u001b[0m\n\u001b[0m",
      "\u001b[1;32mC:\\ProgramData\\Anaconda3\\lib\\site-packages\\pandas\\core\\indexes\\base.py\u001b[0m in \u001b[0;36m__setitem__\u001b[1;34m(self, key, value)\u001b[0m\n\u001b[0;32m   5033\u001b[0m     \u001b[1;33m@\u001b[0m\u001b[0mfinal\u001b[0m\u001b[1;33m\u001b[0m\u001b[1;33m\u001b[0m\u001b[0m\n\u001b[0;32m   5034\u001b[0m     \u001b[1;32mdef\u001b[0m \u001b[0m__setitem__\u001b[0m\u001b[1;33m(\u001b[0m\u001b[0mself\u001b[0m\u001b[1;33m,\u001b[0m \u001b[0mkey\u001b[0m\u001b[1;33m,\u001b[0m \u001b[0mvalue\u001b[0m\u001b[1;33m)\u001b[0m\u001b[1;33m:\u001b[0m\u001b[1;33m\u001b[0m\u001b[1;33m\u001b[0m\u001b[0m\n\u001b[1;32m-> 5035\u001b[1;33m         \u001b[1;32mraise\u001b[0m \u001b[0mTypeError\u001b[0m\u001b[1;33m(\u001b[0m\u001b[1;34m\"Index does not support mutable operations\"\u001b[0m\u001b[1;33m)\u001b[0m\u001b[1;33m\u001b[0m\u001b[1;33m\u001b[0m\u001b[0m\n\u001b[0m\u001b[0;32m   5036\u001b[0m \u001b[1;33m\u001b[0m\u001b[0m\n\u001b[0;32m   5037\u001b[0m     \u001b[1;32mdef\u001b[0m \u001b[0m__getitem__\u001b[0m\u001b[1;33m(\u001b[0m\u001b[0mself\u001b[0m\u001b[1;33m,\u001b[0m \u001b[0mkey\u001b[0m\u001b[1;33m)\u001b[0m\u001b[1;33m:\u001b[0m\u001b[1;33m\u001b[0m\u001b[1;33m\u001b[0m\u001b[0m\n",
      "\u001b[1;31mTypeError\u001b[0m: Index does not support mutable operations"
     ]
    }
   ],
   "source": [
    "# 단 번에 인덱스 값 변환 x\n",
    "Indexes[0]=1000\n",
    "\n",
    "# 바꾸기 위해선 Index.values를 하고 변화한 값을 다시 pd.DataFrame(index=Index.values) 이렇게 바꿔야함"
   ]
  },
  {
   "cell_type": "code",
   "execution_count": null,
   "id": "0426b598",
   "metadata": {},
   "outputs": [],
   "source": []
  },
  {
   "cell_type": "code",
   "execution_count": null,
   "id": "9c7b621e",
   "metadata": {},
   "outputs": [],
   "source": []
  },
  {
   "cell_type": "code",
   "execution_count": null,
   "id": "8558cf1d",
   "metadata": {},
   "outputs": [],
   "source": []
  }
 ],
 "metadata": {
  "kernelspec": {
   "display_name": "Python 3 (ipykernel)",
   "language": "python",
   "name": "python3"
  },
  "language_info": {
   "codemirror_mode": {
    "name": "ipython",
    "version": 3
   },
   "file_extension": ".py",
   "mimetype": "text/x-python",
   "name": "python",
   "nbconvert_exporter": "python",
   "pygments_lexer": "ipython3",
   "version": "3.9.13"
  }
 },
 "nbformat": 4,
 "nbformat_minor": 5
}
