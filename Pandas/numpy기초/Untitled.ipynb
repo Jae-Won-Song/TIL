{
 "cells": [
  {
   "cell_type": "code",
   "execution_count": 2,
   "id": "c08a0df5",
   "metadata": {},
   "outputs": [
    {
     "name": "stdout",
     "output_type": "stream",
     "text": [
      "hello\n"
     ]
    }
   ],
   "source": [
    "print('hello')"
   ]
  },
  {
   "cell_type": "code",
   "execution_count": 4,
   "id": "131e1ffa",
   "metadata": {
    "scrolled": true
   },
   "outputs": [
    {
     "name": "stdout",
     "output_type": "stream",
     "text": [
      "Requirement already satisfied: sklearn in c:\\programdata\\anaconda3\\lib\\site-packages (0.0.post1)\n",
      "Note: you may need to restart the kernel to use updated packages.\n"
     ]
    }
   ],
   "source": [
    "pip install sklearn"
   ]
  },
  {
   "cell_type": "code",
   "execution_count": 7,
   "id": "a92345a8",
   "metadata": {},
   "outputs": [],
   "source": [
    "import numpy as np # alias (축약어)"
   ]
  },
  {
   "cell_type": "code",
   "execution_count": 8,
   "id": "0bc5da6b",
   "metadata": {},
   "outputs": [],
   "source": [
    "a = [1,2,3]\n",
    "\n",
    "b = np.array(a)"
   ]
  },
  {
   "cell_type": "code",
   "execution_count": 10,
   "id": "bb6bb1e5",
   "metadata": {},
   "outputs": [
    {
     "name": "stdout",
     "output_type": "stream",
     "text": [
      "<class 'list'>\n",
      "<class 'numpy.ndarray'>\n"
     ]
    }
   ],
   "source": [
    "print(type(a))\n",
    "print(type(b))"
   ]
  },
  {
   "cell_type": "code",
   "execution_count": 13,
   "id": "e4d3375f",
   "metadata": {},
   "outputs": [
    {
     "name": "stdout",
     "output_type": "stream",
     "text": [
      "array1 type: <class 'numpy.ndarray'>\n",
      "[1 2 3]\n",
      "[4 5 6]\n"
     ]
    }
   ],
   "source": [
    "array1 = b.copy()\n",
    "array2 = np.array([4,5,6])\n",
    "print('array1 type:' , type(array1))\n",
    "print(array1)\n",
    "print(array2)"
   ]
  },
  {
   "cell_type": "code",
   "execution_count": 15,
   "id": "a1dc50e0",
   "metadata": {},
   "outputs": [
    {
     "name": "stdout",
     "output_type": "stream",
     "text": [
      "array2d type: <class 'numpy.ndarray'>\n",
      "[[ 1  2  3]\n",
      " [11 22 33]]\n",
      "array2d의 형태: (2, 3)\n",
      "array2d는 2차원\n"
     ]
    }
   ],
   "source": [
    "array2d = np.array([[1,2,3],\n",
    "                  [11,22,33]])\n",
    "print('array2d type:' , type(array2d))\n",
    "print(array2d)\n",
    "print('array2d의 형태:', array2d.shape)\n",
    "print('array2d는 {0}차원'.format(array2d.ndim))"
   ]
  },
  {
   "cell_type": "code",
   "execution_count": 16,
   "id": "e8adc5c0",
   "metadata": {},
   "outputs": [
    {
     "data": {
      "text/plain": [
       "array([0, 1, 2, 3, 4, 5, 6, 7, 8, 9])"
      ]
     },
     "execution_count": 16,
     "metadata": {},
     "output_type": "execute_result"
    }
   ],
   "source": [
    "sq_array = np.arange(10)\n",
    "sq_array"
   ]
  },
  {
   "cell_type": "code",
   "execution_count": null,
   "id": "49f63be2",
   "metadata": {},
   "outputs": [],
   "source": []
  }
 ],
 "metadata": {
  "kernelspec": {
   "display_name": "Python 3 (ipykernel)",
   "language": "python",
   "name": "python3"
  },
  "language_info": {
   "codemirror_mode": {
    "name": "ipython",
    "version": 3
   },
   "file_extension": ".py",
   "mimetype": "text/x-python",
   "name": "python",
   "nbconvert_exporter": "python",
   "pygments_lexer": "ipython3",
   "version": "3.9.13"
  }
 },
 "nbformat": 4,
 "nbformat_minor": 5
}
