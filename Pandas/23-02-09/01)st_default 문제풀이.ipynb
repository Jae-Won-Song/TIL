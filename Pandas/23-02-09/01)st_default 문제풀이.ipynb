{
 "cells": [
  {
   "cell_type": "code",
   "execution_count": 1,
   "id": "9f10a38e",
   "metadata": {},
   "outputs": [],
   "source": [
    "# 1) 데이터 수집\n",
    "\n",
    "# 2 필수 라이브러리 호출 \n",
    "    # 넘파이 판다스 사이킷런 모델셀렉션 => train_test_split, KFold\n",
    "    # 알고리즘 (DecisionTreeClassfier) => 한 변수를 기준으로 각 y 클래스를 구분 \n",
    "    # 평가지표 Accuracy_score(confusion_matrix{오차행렬, 혼동행렬})\n",
    "\n",
    "# 3 데이터 정보 확인 \n",
    "    # 결측치\n",
    "    # 데이터 object, int, float\n",
    "    # 시각화 - EDA\n",
    "    \n",
    "# 4 데이터 전처리\n",
    "    # 결측값 대체 \n",
    "    # 문자를 숫자로 변환\n",
    "    # 식별자(ID, Index, 주민번호)제거\n",
    "    \n",
    "# 5 호출된 알고리즘 => fit, pred (모델링)\n",
    "\n",
    "# 6 평가지표에 따라 결과지표\n",
    "\n",
    "# 7 하이퍼파라미터 튜닝 => 6번의 결과지표를 좀 더 좋게..? 할 수 있는 방법 모색 (그리드서치CV) \n",
    "\n",
    "# 8 K-Fold 오버피팅 여부 체크 "
   ]
  },
  {
   "cell_type": "code",
   "execution_count": 2,
   "id": "77c9725b",
   "metadata": {},
   "outputs": [],
   "source": [
    "# 필수 라이브러리 호출\n",
    "import pandas as pd\n",
    "import numpy as np\n",
    "\n",
    "from sklearn.model_selection import train_test_split\n",
    "from sklearn.tree import DecisionTreeClassifier\n",
    "from sklearn.metrics import accuracy_score\n",
    "from sklearn.model_selection import cross_val_score"
   ]
  },
  {
   "cell_type": "code",
   "execution_count": 21,
   "id": "5dcade26",
   "metadata": {},
   "outputs": [],
   "source": [
    "# 데이터 정의(load)\n",
    "\n",
    "st_default_df = pd.read_csv('./st_default.csv')\n",
    "st_default_df1 = st_default_df.iloc[:,1:] # iloc 는 위치기반 인덱싱 (poitional indexing) \n",
    "st_default_df1"
   ]
  },
  {
   "cell_type": "code",
   "execution_count": 4,
   "id": "141849e6",
   "metadata": {},
   "outputs": [],
   "source": [
    "# train_test_split 하기 전에 문자형 데이터들 변경 - 1)레이블 vs 2) one-hot \n",
    "# 그런데 y_label의 경우 default를 예측하는 값이므로 이 값은 label\n",
    "# 나머지 student는 get_dummies()\n",
    "\n",
    "X_data = st_default_df1.drop('default', axis=1)\n",
    "y_target = st_default_df1['default']"
   ]
  },
  {
   "cell_type": "code",
   "execution_count": 5,
   "id": "829247a5",
   "metadata": {},
   "outputs": [],
   "source": [
    "# EDA를 통한 데이터 확인"
   ]
  },
  {
   "cell_type": "code",
   "execution_count": 6,
   "id": "f391c8f3",
   "metadata": {},
   "outputs": [
    {
     "name": "stdout",
     "output_type": "stream",
     "text": [
      "<class 'pandas.core.frame.DataFrame'>\n",
      "RangeIndex: 10000 entries, 0 to 9999\n",
      "Data columns (total 3 columns):\n",
      " #   Column   Non-Null Count  Dtype  \n",
      "---  ------   --------------  -----  \n",
      " 0   student  10000 non-null  object \n",
      " 1   balance  10000 non-null  float64\n",
      " 2   income   10000 non-null  float64\n",
      "dtypes: float64(2), object(1)\n",
      "memory usage: 234.5+ KB\n"
     ]
    }
   ],
   "source": [
    "X_data.info()"
   ]
  },
  {
   "cell_type": "code",
   "execution_count": 7,
   "id": "bfd3de47",
   "metadata": {},
   "outputs": [
    {
     "data": {
      "text/html": [
       "<div>\n",
       "<style scoped>\n",
       "    .dataframe tbody tr th:only-of-type {\n",
       "        vertical-align: middle;\n",
       "    }\n",
       "\n",
       "    .dataframe tbody tr th {\n",
       "        vertical-align: top;\n",
       "    }\n",
       "\n",
       "    .dataframe thead th {\n",
       "        text-align: right;\n",
       "    }\n",
       "</style>\n",
       "<table border=\"1\" class=\"dataframe\">\n",
       "  <thead>\n",
       "    <tr style=\"text-align: right;\">\n",
       "      <th></th>\n",
       "      <th>balance</th>\n",
       "      <th>income</th>\n",
       "    </tr>\n",
       "  </thead>\n",
       "  <tbody>\n",
       "    <tr>\n",
       "      <th>count</th>\n",
       "      <td>10000.000000</td>\n",
       "      <td>10000.000000</td>\n",
       "    </tr>\n",
       "    <tr>\n",
       "      <th>mean</th>\n",
       "      <td>835.374886</td>\n",
       "      <td>33516.981876</td>\n",
       "    </tr>\n",
       "    <tr>\n",
       "      <th>std</th>\n",
       "      <td>483.714985</td>\n",
       "      <td>13336.639563</td>\n",
       "    </tr>\n",
       "    <tr>\n",
       "      <th>min</th>\n",
       "      <td>0.000000</td>\n",
       "      <td>771.967729</td>\n",
       "    </tr>\n",
       "    <tr>\n",
       "      <th>25%</th>\n",
       "      <td>481.731105</td>\n",
       "      <td>21340.462905</td>\n",
       "    </tr>\n",
       "    <tr>\n",
       "      <th>50%</th>\n",
       "      <td>823.636973</td>\n",
       "      <td>34552.644800</td>\n",
       "    </tr>\n",
       "    <tr>\n",
       "      <th>75%</th>\n",
       "      <td>1166.308387</td>\n",
       "      <td>43807.729275</td>\n",
       "    </tr>\n",
       "    <tr>\n",
       "      <th>max</th>\n",
       "      <td>2654.322576</td>\n",
       "      <td>73554.233500</td>\n",
       "    </tr>\n",
       "  </tbody>\n",
       "</table>\n",
       "</div>"
      ],
      "text/plain": [
       "            balance        income\n",
       "count  10000.000000  10000.000000\n",
       "mean     835.374886  33516.981876\n",
       "std      483.714985  13336.639563\n",
       "min        0.000000    771.967729\n",
       "25%      481.731105  21340.462905\n",
       "50%      823.636973  34552.644800\n",
       "75%     1166.308387  43807.729275\n",
       "max     2654.322576  73554.233500"
      ]
     },
     "execution_count": 7,
     "metadata": {},
     "output_type": "execute_result"
    }
   ],
   "source": [
    "X_data.describe()"
   ]
  },
  {
   "cell_type": "code",
   "execution_count": 8,
   "id": "ddca1ab9",
   "metadata": {},
   "outputs": [
    {
     "name": "stdout",
     "output_type": "stream",
     "text": [
      "X_data의 크기: 10000\n",
      "y_target의 크기: 10000\n"
     ]
    }
   ],
   "source": [
    "# 크기 확인 \n",
    "print('X_data의 크기:', X_data.shape[0])\n",
    "print('y_target의 크기:', y_target.shape[0])"
   ]
  },
  {
   "cell_type": "code",
   "execution_count": 9,
   "id": "0d5fbc0a",
   "metadata": {},
   "outputs": [],
   "source": [
    "# 문자 숫자로 변환 => 1. 컬럼 없애도 ok\n",
    "                 # 2. 문자 -> 원-핫 인코딩 // laber Encoding"
   ]
  },
  {
   "cell_type": "code",
   "execution_count": 10,
   "id": "2f10afdc",
   "metadata": {},
   "outputs": [],
   "source": [
    "X_data_df = pd.get_dummies(X_data) # 원-핫 인코딩"
   ]
  },
  {
   "cell_type": "code",
   "execution_count": 11,
   "id": "49a8e74d",
   "metadata": {},
   "outputs": [
    {
     "data": {
      "text/plain": [
       "0    9667\n",
       "1     333\n",
       "dtype: int64"
      ]
     },
     "execution_count": 11,
     "metadata": {},
     "output_type": "execute_result"
    }
   ],
   "source": [
    "# y_값에 label encoding\n",
    "\n",
    "from sklearn.preprocessing import LabelEncoder\n",
    "\n",
    "le_encode = LabelEncoder()\n",
    "y_target_scaled = le_encode.fit_transform(y_target)\n",
    "\n",
    "# imbalanced data => y타겟값을 확인 (쏠림데이터)\n",
    "pd.Series(y_target_scaled).value_counts()"
   ]
  },
  {
   "cell_type": "code",
   "execution_count": 12,
   "id": "20e09a6a",
   "metadata": {},
   "outputs": [],
   "source": [
    "# 데이터 분할 - train_test_split\n",
    "X_train, X_test, y_train, y_test = train_test_split(X_data_df, y_target_scaled, stratify=y_target_scaled) "
   ]
  },
  {
   "cell_type": "code",
   "execution_count": 13,
   "id": "abf47c0f",
   "metadata": {},
   "outputs": [],
   "source": [
    "# 의사결정나무 적용\n",
    "\n",
    "dt_clf = DecisionTreeClassifier()\n",
    "dt_clf.fit(X_train, y_train) # 학습\n",
    "\n",
    "# 예측\n",
    "y_pred = dt_clf.predict(X_test)"
   ]
  },
  {
   "cell_type": "code",
   "execution_count": 14,
   "id": "a940ad9e",
   "metadata": {},
   "outputs": [
    {
     "name": "stdout",
     "output_type": "stream",
     "text": [
      "정확도 : 0.9604\n"
     ]
    }
   ],
   "source": [
    "# 평가지표\n",
    "\n",
    "print(f'정확도 : {accuracy_score(y_pred,y_test)}') "
   ]
  },
  {
   "cell_type": "markdown",
   "id": "e4aac6f2",
   "metadata": {},
   "source": [
    "#### 배우신 분들을 위한 내용"
   ]
  },
  {
   "cell_type": "code",
   "execution_count": 15,
   "id": "4dbfd246",
   "metadata": {},
   "outputs": [
    {
     "name": "stdout",
     "output_type": "stream",
     "text": [
      "교차 검증별 정확도:[0.953 0.959 0.947 0.956 0.957 0.957 0.957 0.958 0.957 0.954]\n",
      "평균 검증별 정확도:0.9555\n"
     ]
    }
   ],
   "source": [
    "# 1. 교차검증을 수행 (cross_val_score)\n",
    "from sklearn.model_selection import cross_val_score\n",
    "\n",
    "scores = cross_val_score(dt_clf, X_data_df, y_target_scaled, scoring='accuracy', cv=10) \n",
    "print(f'교차 검증별 정확도:{np.round(scores, 4)}')\n",
    "print(f'평균 검증별 정확도:{np.round(np.mean(scores), 4)}')"
   ]
  },
  {
   "cell_type": "code",
   "execution_count": 16,
   "id": "df91f1dd",
   "metadata": {},
   "outputs": [
    {
     "data": {
      "text/plain": [
       "GridSearchCV(cv=10, estimator=DecisionTreeClassifier(),\n",
       "             param_grid={'max_depth': [3, 4, 5, 6, 7, 10],\n",
       "                         'min_samples_split': [2, 3, 5, 10]})"
      ]
     },
     "execution_count": 16,
     "metadata": {},
     "output_type": "execute_result"
    }
   ],
   "source": [
    "# 2. 하이퍼파라미터 튜닝을 수행\n",
    "from sklearn.model_selection import GridSearchCV\n",
    "\n",
    "parameters = {'max_depth':[3,4,5,6,7,10],\n",
    "              'min_samples_split':[2,3,5,10],}\n",
    "grid_dtree = GridSearchCV(dt_clf, param_grid=parameters, cv=10, refit=True)\n",
    "grid_dtree.fit(X_train,y_train)"
   ]
  },
  {
   "cell_type": "code",
   "execution_count": 17,
   "id": "d19033e8",
   "metadata": {},
   "outputs": [
    {
     "name": "stdout",
     "output_type": "stream",
     "text": [
      "test datasets accuracy:0.974\n"
     ]
    }
   ],
   "source": [
    "estimator = grid_dtree.best_estimator_\n",
    "\n",
    "pred_grid = estimator.predict(X_test)\n",
    "print(f'test datasets accuracy:{accuracy_score(y_test,pred_grid)}')"
   ]
  },
  {
   "cell_type": "code",
   "execution_count": 18,
   "id": "a7d5873b",
   "metadata": {},
   "outputs": [
    {
     "data": {
      "text/plain": [
       "No     9667\n",
       "Yes     333\n",
       "Name: default, dtype: int64"
      ]
     },
     "execution_count": 18,
     "metadata": {},
     "output_type": "execute_result"
    }
   ],
   "source": [
    "y_target.value_counts()"
   ]
  },
  {
   "cell_type": "code",
   "execution_count": 19,
   "id": "1a99c68e",
   "metadata": {},
   "outputs": [],
   "source": [
    "# 1. 왜 데이터의 해당하는 정확도 값이 높게 나왔을까요?\n",
    "# 2. 데이터는 어떠한 특징을 지니고 있나요?\n",
    "# 3. 데이터에는 어떠한 문제점이 있나요?\n",
    "# 4. 그렇다면 이러한 문제점을 해결하기 위한 방안은 무엇이 있을까요?\n",
    "    # 1. over sampling, under sampling\n",
    "    # 2. Data augementation => 이미지 분석에서 자주 쓰임\n",
    "    # 4. get more data\n",
    "    # 5. change our metrics - precision, recall, f1-score, roc_auc"
   ]
  },
  {
   "cell_type": "code",
   "execution_count": 20,
   "id": "f92f8e97",
   "metadata": {},
   "outputs": [],
   "source": [
    "# end of file"
   ]
  }
 ],
 "metadata": {
  "kernelspec": {
   "display_name": "Python 3 (ipykernel)",
   "language": "python",
   "name": "python3"
  },
  "language_info": {
   "codemirror_mode": {
    "name": "ipython",
    "version": 3
   },
   "file_extension": ".py",
   "mimetype": "text/x-python",
   "name": "python",
   "nbconvert_exporter": "python",
   "pygments_lexer": "ipython3",
   "version": "3.9.13"
  }
 },
 "nbformat": 4,
 "nbformat_minor": 5
}
