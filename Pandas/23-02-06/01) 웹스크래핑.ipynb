{
 "cells": [
  {
   "cell_type": "markdown",
   "id": "967ef2ce",
   "metadata": {},
   "source": [
    "## 하나의 웹 사이트에 접속하기"
   ]
  },
  {
   "cell_type": "code",
   "execution_count": 1,
   "id": "a11fe887",
   "metadata": {},
   "outputs": [
    {
     "data": {
      "text/plain": [
       "True"
      ]
     },
     "execution_count": 1,
     "metadata": {},
     "output_type": "execute_result"
    }
   ],
   "source": [
    "# webbrowser 모듈 활용\n",
    "import webbrowser\n",
    "\n",
    "url = 'www.naver.com'\n",
    "webbrowser.open(url)"
   ]
  },
  {
   "cell_type": "code",
   "execution_count": 2,
   "id": "704bc26a",
   "metadata": {},
   "outputs": [
    {
     "data": {
      "text/plain": [
       "True"
      ]
     },
     "execution_count": 2,
     "metadata": {},
     "output_type": "execute_result"
    }
   ],
   "source": [
    "# 네이버 검색 사이트\n",
    "import webbrowser\n",
    "\n",
    "naver_search = 'https://search.naver.com/search.naver?query='\n",
    "search_word = '김미도'\n",
    "\n",
    "url = naver_search+search_word\n",
    "\n",
    "webbrowser.open_new_tab(url)"
   ]
  },
  {
   "cell_type": "code",
   "execution_count": 1,
   "id": "ade06102",
   "metadata": {},
   "outputs": [
    {
     "data": {
      "text/plain": [
       "True"
      ]
     },
     "execution_count": 1,
     "metadata": {},
     "output_type": "execute_result"
    }
   ],
   "source": [
    "# 네이버 검색 사이트\n",
    "import webbrowser\n",
    "\n",
    "google_search = 'https://www.google.com/search?q='\n",
    "search_word = '나는미도'\n",
    "\n",
    "url = google_search+search_word\n",
    "\n",
    "webbrowser.open_new_tab(url)"
   ]
  },
  {
   "cell_type": "markdown",
   "id": "c9601773",
   "metadata": {},
   "source": [
    "## 여러개의 웹 사이트에 접속하기"
   ]
  },
  {
   "cell_type": "code",
   "execution_count": 4,
   "id": "64be7ba3",
   "metadata": {},
   "outputs": [],
   "source": [
    "import webbrowser\n",
    "\n",
    "urls = ['www.naver.com', 'www.google.com','www.daum.com']\n",
    "\n",
    "for url in urls:\n",
    "    webbrowser.open_new(url)"
   ]
  },
  {
   "cell_type": "code",
   "execution_count": 5,
   "id": "07d9b6f3",
   "metadata": {},
   "outputs": [],
   "source": [
    "# 구글 검색 사이트\n",
    "\n",
    "import webbrowser\n",
    "\n",
    "google_search_url = 'http://www.google.com/search?q='\n",
    "words = ['python webbrowser', '나는미도']\n",
    "\n",
    "urls = ['www.naver.com', 'www.google.com','www.daum.com']\n",
    "\n",
    "for word in words:\n",
    "    webbrowser.open_new(google_search_url+word)"
   ]
  },
  {
   "cell_type": "markdown",
   "id": "e1b49dec",
   "metadata": {},
   "source": [
    "## 웹 브라우저를 열고 원하는 웹 사이트 접속을 위해 webbrowser 모듈을 활용한다"
   ]
  },
  {
   "cell_type": "markdown",
   "id": "6d170a26",
   "metadata": {},
   "source": [
    "## 웹 브라우저를 열지 않고 웹 사이트에 접속해 원하는정보 가져오기"
   ]
  },
  {
   "cell_type": "code",
   "execution_count": 6,
   "id": "b477761d",
   "metadata": {},
   "outputs": [
    {
     "name": "stdout",
     "output_type": "stream",
     "text": [
      "Overwriting ./\\HTML_example.html\n"
     ]
    }
   ],
   "source": [
    "%%writefile ./\\HTML_example.html \n",
    "<!doctype html>\n",
    "<html>\n",
    " <head>\n",
    "  <meta charset=\"utf-8\">\n",
    "  <title>이것은 HTML 예제</title>\n",
    " </head>\n",
    " <body>\n",
    "  <h1>출간된 책 정보</h1>\n",
    "  <p id=\"book_title\">이해가 쏙쏙 되는 파이썬</p>\n",
    "  <p id=\"author\">홍길동</p>\n",
    "  <p id=\"publisher\">영식북스 출판사</p>\n",
    "  <p id=\"year\">2023</p>\n",
    " </body>\n",
    "</html>"
   ]
  },
  {
   "cell_type": "code",
   "execution_count": 25,
   "id": "15182a4f",
   "metadata": {},
   "outputs": [],
   "source": [
    "### 웹 페이지 HTML 소스코드 가져오기"
   ]
  },
  {
   "cell_type": "code",
   "execution_count": 7,
   "id": "86a40a0e",
   "metadata": {
    "scrolled": true
   },
   "outputs": [
    {
     "name": "stdout",
     "output_type": "stream",
     "text": [
      "Defaulting to user installation because normal site-packages is not writeable\n",
      "Requirement already satisfied: requests in c:\\programdata\\anaconda3\\lib\\site-packages (2.28.1)\n",
      "Requirement already satisfied: idna<4,>=2.5 in c:\\programdata\\anaconda3\\lib\\site-packages (from requests) (3.3)\n",
      "Requirement already satisfied: charset-normalizer<3,>=2 in c:\\programdata\\anaconda3\\lib\\site-packages (from requests) (2.0.4)\n",
      "Requirement already satisfied: certifi>=2017.4.17 in c:\\programdata\\anaconda3\\lib\\site-packages (from requests) (2022.9.14)\n",
      "Requirement already satisfied: urllib3<1.27,>=1.21.1 in c:\\programdata\\anaconda3\\lib\\site-packages (from requests) (1.26.11)\n"
     ]
    }
   ],
   "source": [
    "!pip install requests"
   ]
  },
  {
   "cell_type": "code",
   "execution_count": 8,
   "id": "6744e34a",
   "metadata": {},
   "outputs": [
    {
     "data": {
      "text/plain": [
       "<Response [200]>"
      ]
     },
     "execution_count": 8,
     "metadata": {},
     "output_type": "execute_result"
    }
   ],
   "source": [
    "import requests\n",
    "\n",
    "r = requests.get('https://www.naver.com/')\n",
    "r"
   ]
  },
  {
   "cell_type": "code",
   "execution_count": 9,
   "id": "c03579d9",
   "metadata": {},
   "outputs": [
    {
     "data": {
      "text/plain": [
       "'\\n<!doctype html>                          <html lang=\"ko\" data-dark=\"false\"> <head> <meta charset=\"utf-8\"> <title>NAVER</title> <meta http-equiv=\"X-UA-Compatible\" content=\"IE=edge\"> <meta name=\"viewpo'"
      ]
     },
     "execution_count": 9,
     "metadata": {},
     "output_type": "execute_result"
    }
   ],
   "source": [
    "r.text[:200]"
   ]
  },
  {
   "cell_type": "markdown",
   "id": "d122cb50",
   "metadata": {},
   "source": [
    "### HTML 소스코드를 분석하고 처리하기"
   ]
  },
  {
   "cell_type": "markdown",
   "id": "c2192160",
   "metadata": {},
   "source": [
    "HTML 소스코드를 가져온 후 HTML 코드를 분석해 원하는 데이터를 추출하는 방법을 알아보자. HTML 코드를 분석하기 위해서는 HTML 코드 구문을 이해하고 요소별로 HTML 코드를 분류해야 한다. \n",
    "\n",
    "위와 같은 작업을 Parsing 이라 한다. \n",
    "\n",
    "Parsing을 위해서는 Beautiful Soup 라이브러리를 사용하면 파싱을 좀 더 손쉽게 할 수 있다."
   ]
  },
  {
   "cell_type": "code",
   "execution_count": 10,
   "id": "a8f9509b",
   "metadata": {},
   "outputs": [
    {
     "name": "stdout",
     "output_type": "stream",
     "text": [
      "Defaulting to user installation because normal site-packages is not writeable\n",
      "Requirement already satisfied: bs4 in c:\\users\\송재원\\appdata\\roaming\\python\\python39\\site-packages (0.0.1)\n",
      "Requirement already satisfied: beautifulsoup4 in c:\\programdata\\anaconda3\\lib\\site-packages (from bs4) (4.11.1)\n",
      "Requirement already satisfied: soupsieve>1.2 in c:\\programdata\\anaconda3\\lib\\site-packages (from beautifulsoup4->bs4) (2.3.1)\n"
     ]
    }
   ],
   "source": [
    "!pip install bs4"
   ]
  },
  {
   "cell_type": "code",
   "execution_count": 11,
   "id": "ff67900e",
   "metadata": {},
   "outputs": [
    {
     "name": "stdout",
     "output_type": "stream",
     "text": [
      "<html>\n",
      " <body>\n",
      "  <div>\n",
      "   <span>\n",
      "    <a href=\"http://www.naver.com\">\n",
      "     naver\n",
      "    </a>\n",
      "    <a href=\"https://www.google.com\">\n",
      "     google\n",
      "    </a>\n",
      "    <a href=\"http://www.daum.net/\">\n",
      "     daum\n",
      "    </a>\n",
      "   </span>\n",
      "  </div>\n",
      " </body>\n",
      "</html>\n"
     ]
    }
   ],
   "source": [
    "# parsing => HTML코드를 우리가 알아볼 수 있도록 해석해주는 것\n",
    "### Beautiful Soup 라이브러리에 대한 자세한 방법은 웹 사이트(https://www.crummy.com/software/BeautifulSoup/bs4/doc)\n",
    "from bs4 import BeautifulSoup\n",
    "# 테스트용 html 코드\n",
    "html = \"\"\"<html><body><div><span>\\\n",
    "        <a href=http://www.naver.com>naver</a>\\\n",
    "        <a href=https://www.google.com>google</a>\\\n",
    "        <a href=http://www.daum.net/>daum</a>\\\n",
    "        </span></div></body></html>\"\"\"\n",
    "# BeautifulSoup를 이용해 HTML 소스를 파싱\n",
    "soup = BeautifulSoup(html, 'lxml')  # HTML 소스를 처리하기 위한 Parser이다.\n",
    "print(soup.prettify())"
   ]
  },
  {
   "cell_type": "code",
   "execution_count": 12,
   "id": "1943a7c1",
   "metadata": {},
   "outputs": [],
   "source": [
    "# a 태그의 요소들만 찾아보자"
   ]
  },
  {
   "cell_type": "code",
   "execution_count": 13,
   "id": "adb7249e",
   "metadata": {},
   "outputs": [
    {
     "data": {
      "text/plain": [
       "<a href=\"http://www.naver.com\">naver</a>"
      ]
     },
     "execution_count": 13,
     "metadata": {},
     "output_type": "execute_result"
    }
   ],
   "source": [
    "soup.find('a') # 1개만 가져올때"
   ]
  },
  {
   "cell_type": "code",
   "execution_count": 14,
   "id": "8910773a",
   "metadata": {},
   "outputs": [
    {
     "data": {
      "text/plain": [
       "'naver'"
      ]
     },
     "execution_count": 14,
     "metadata": {},
     "output_type": "execute_result"
    }
   ],
   "source": [
    "soup.find('a').get_text()"
   ]
  },
  {
   "cell_type": "code",
   "execution_count": 15,
   "id": "57d26357",
   "metadata": {},
   "outputs": [
    {
     "data": {
      "text/plain": [
       "[<a href=\"http://www.naver.com\">naver</a>,\n",
       " <a href=\"https://www.google.com\">google</a>,\n",
       " <a href=\"http://www.daum.net/\">daum</a>]"
      ]
     },
     "execution_count": 15,
     "metadata": {},
     "output_type": "execute_result"
    }
   ],
   "source": [
    "soup.find_all('a') # 여러개를 가져올때"
   ]
  },
  {
   "cell_type": "code",
   "execution_count": 16,
   "id": "baf4ec58",
   "metadata": {},
   "outputs": [],
   "source": [
    "# naver, google, daum에서 텍스트 추출"
   ]
  },
  {
   "cell_type": "code",
   "execution_count": 17,
   "id": "7721a5dc",
   "metadata": {},
   "outputs": [
    {
     "name": "stdout",
     "output_type": "stream",
     "text": [
      "naver\n",
      "google\n",
      "daum\n"
     ]
    }
   ],
   "source": [
    "site_names = soup.find_all('a')\n",
    "\n",
    "for site_name in site_names:\n",
    "    print(site_name.get_text())"
   ]
  },
  {
   "cell_type": "code",
   "execution_count": 18,
   "id": "a0cce6e7",
   "metadata": {},
   "outputs": [],
   "source": [
    "# 다른 사례를 살펴보자.\n",
    "# 아래의 html2는 다른 사례이다.\n",
    "html2 = \"\"\"\n",
    "<html>\n",
    " <head>\n",
    "  <title>작품과 작가 모음</title>\n",
    " </head>\n",
    " <body>\n",
    "  <h1>책 정보</h1>\n",
    "  <p id=\"book_title\">토지</p>\n",
    "  <p id=\"author\">박경리</p>\n",
    "  <p id=\"book_title\">태백산맥</p>\n",
    "  <p id=\"author\">조정래</p>\n",
    "  <p id=\"book_title\">감옥으로부터의 사색</p>\n",
    "  <p id=\"author\">신영복</p>\n",
    " </body>\n",
    "</html>\n",
    "\"\"\""
   ]
  },
  {
   "cell_type": "code",
   "execution_count": 19,
   "id": "c0b0202a",
   "metadata": {},
   "outputs": [
    {
     "name": "stdout",
     "output_type": "stream",
     "text": [
      "<html>\n",
      "<head>\n",
      "<title>작품과 작가 모음</title>\n",
      "</head>\n",
      "<body>\n",
      "<h1>책 정보</h1>\n",
      "<p id=\"book_title\">토지</p>\n",
      "<p id=\"author\">박경리</p>\n",
      "<p id=\"book_title\">태백산맥</p>\n",
      "<p id=\"author\">조정래</p>\n",
      "<p id=\"book_title\">감옥으로부터의 사색</p>\n",
      "<p id=\"author\">신영복</p>\n",
      "</body>\n",
      "</html>\n",
      "\n"
     ]
    }
   ],
   "source": [
    "from bs4 import BeautifulSoup\n",
    "\n",
    "soup2 = BeautifulSoup(html2)\n",
    "print(soup2)"
   ]
  },
  {
   "cell_type": "code",
   "execution_count": 20,
   "id": "3642c157",
   "metadata": {},
   "outputs": [
    {
     "data": {
      "text/plain": [
       "<head>\n",
       "<title>작품과 작가 모음</title>\n",
       "</head>"
      ]
     },
     "execution_count": 20,
     "metadata": {},
     "output_type": "execute_result"
    }
   ],
   "source": [
    "soup2.head"
   ]
  },
  {
   "cell_type": "code",
   "execution_count": 21,
   "id": "5e0921c1",
   "metadata": {},
   "outputs": [
    {
     "data": {
      "text/plain": [
       "<title>작품과 작가 모음</title>"
      ]
     },
     "execution_count": 21,
     "metadata": {},
     "output_type": "execute_result"
    }
   ],
   "source": [
    "soup2.title"
   ]
  },
  {
   "cell_type": "code",
   "execution_count": 22,
   "id": "91b2380c",
   "metadata": {},
   "outputs": [
    {
     "data": {
      "text/plain": [
       "<body>\n",
       "<h1>책 정보</h1>\n",
       "<p id=\"book_title\">토지</p>\n",
       "<p id=\"author\">박경리</p>\n",
       "<p id=\"book_title\">태백산맥</p>\n",
       "<p id=\"author\">조정래</p>\n",
       "<p id=\"book_title\">감옥으로부터의 사색</p>\n",
       "<p id=\"author\">신영복</p>\n",
       "</body>"
      ]
     },
     "execution_count": 22,
     "metadata": {},
     "output_type": "execute_result"
    }
   ],
   "source": [
    "soup2.body"
   ]
  },
  {
   "cell_type": "code",
   "execution_count": 23,
   "id": "70aad0a7",
   "metadata": {},
   "outputs": [
    {
     "data": {
      "text/plain": [
       "<h1>책 정보</h1>"
      ]
     },
     "execution_count": 23,
     "metadata": {},
     "output_type": "execute_result"
    }
   ],
   "source": [
    "soup2.body.h1"
   ]
  },
  {
   "cell_type": "code",
   "execution_count": 24,
   "id": "cd409323",
   "metadata": {},
   "outputs": [
    {
     "data": {
      "text/plain": [
       "[<p id=\"book_title\">토지</p>,\n",
       " <p id=\"author\">박경리</p>,\n",
       " <p id=\"book_title\">태백산맥</p>,\n",
       " <p id=\"author\">조정래</p>,\n",
       " <p id=\"book_title\">감옥으로부터의 사색</p>,\n",
       " <p id=\"author\">신영복</p>]"
      ]
     },
     "execution_count": 24,
     "metadata": {},
     "output_type": "execute_result"
    }
   ],
   "source": [
    "# p태그를 가져온다\n",
    "soup2.find_all('p')"
   ]
  },
  {
   "cell_type": "code",
   "execution_count": 25,
   "id": "b6b1c4fd",
   "metadata": {},
   "outputs": [],
   "source": [
    "# p태그에 해당하는 내용물 추출\n",
    "# book_title만 가져오고 싶다"
   ]
  },
  {
   "cell_type": "code",
   "execution_count": 26,
   "id": "deb35594",
   "metadata": {},
   "outputs": [
    {
     "data": {
      "text/plain": [
       "[<p id=\"book_title\">토지</p>,\n",
       " <p id=\"book_title\">태백산맥</p>,\n",
       " <p id=\"book_title\">감옥으로부터의 사색</p>]"
      ]
     },
     "execution_count": 26,
     "metadata": {},
     "output_type": "execute_result"
    }
   ],
   "source": [
    "soup2.find_all('p',{'id':'book_title'})"
   ]
  },
  {
   "cell_type": "code",
   "execution_count": 27,
   "id": "62d3cf28",
   "metadata": {},
   "outputs": [],
   "source": [
    "# 책 제목및 저자 => 토지:박경리\n",
    "#                  태백산맥 : 조정래\n",
    "#                  감옥으로부터의 사색 : 신영복"
   ]
  },
  {
   "cell_type": "code",
   "execution_count": 28,
   "id": "d741187c",
   "metadata": {},
   "outputs": [],
   "source": [
    "from bs4 import BeautifulSoup\n",
    "  \n",
    "soup2 = BeautifulSoup(html2)\n",
    "\n",
    "book_titles = soup2.find_all('p',{'id':'book_title'})\n",
    "authors = soup2.find_all('p',{'id':'author'})"
   ]
  },
  {
   "cell_type": "code",
   "execution_count": 29,
   "id": "c5ae5793",
   "metadata": {},
   "outputs": [
    {
     "name": "stdout",
     "output_type": "stream",
     "text": [
      "토지:박경리\n",
      "태백산맥:조정래\n",
      "감옥으로부터의 사색:신영복\n"
     ]
    }
   ],
   "source": [
    "for book, author in zip(book_titles, authors):\n",
    "    print(book.get_text()+':'+author.get_text())"
   ]
  },
  {
   "cell_type": "markdown",
   "id": "8391893e",
   "metadata": {},
   "source": [
    "## CSS 선택자(selector)을 활용해 가져오기"
   ]
  },
  {
   "cell_type": "code",
   "execution_count": 30,
   "id": "be4111ad",
   "metadata": {},
   "outputs": [
    {
     "data": {
      "text/plain": [
       "[<h1>책 정보</h1>]"
      ]
     },
     "execution_count": 30,
     "metadata": {},
     "output_type": "execute_result"
    }
   ],
   "source": [
    "from bs4 import BeautifulSoup\n",
    "\n",
    "soup3 = BeautifulSoup(html2)\n",
    "\n",
    "# select를 활용하기\n",
    "\n",
    "soup3.select('body h1')"
   ]
  },
  {
   "cell_type": "code",
   "execution_count": 31,
   "id": "d9d42a81",
   "metadata": {},
   "outputs": [],
   "source": [
    "# p태그 전체를 가져오기"
   ]
  },
  {
   "cell_type": "code",
   "execution_count": 32,
   "id": "94f217c2",
   "metadata": {},
   "outputs": [
    {
     "data": {
      "text/plain": [
       "[<p id=\"book_title\">토지</p>,\n",
       " <p id=\"author\">박경리</p>,\n",
       " <p id=\"book_title\">태백산맥</p>,\n",
       " <p id=\"author\">조정래</p>,\n",
       " <p id=\"book_title\">감옥으로부터의 사색</p>,\n",
       " <p id=\"author\">신영복</p>]"
      ]
     },
     "execution_count": 32,
     "metadata": {},
     "output_type": "execute_result"
    }
   ],
   "source": [
    "soup3.select('body p')"
   ]
  },
  {
   "cell_type": "code",
   "execution_count": 33,
   "id": "f70e8ba9",
   "metadata": {},
   "outputs": [],
   "source": [
    "# p태그안의 book_title 가져오기"
   ]
  },
  {
   "cell_type": "code",
   "execution_count": 34,
   "id": "2751842b",
   "metadata": {},
   "outputs": [
    {
     "data": {
      "text/plain": [
       "[<p id=\"book_title\">토지</p>,\n",
       " <p id=\"book_title\">태백산맥</p>,\n",
       " <p id=\"book_title\">감옥으로부터의 사색</p>]"
      ]
     },
     "execution_count": 34,
     "metadata": {},
     "output_type": "execute_result"
    }
   ],
   "source": [
    "soup3.select('p#book_title')"
   ]
  },
  {
   "cell_type": "code",
   "execution_count": 35,
   "id": "99e9643a",
   "metadata": {},
   "outputs": [
    {
     "data": {
      "text/plain": [
       "[<p id=\"author\">박경리</p>, <p id=\"author\">조정래</p>, <p id=\"author\">신영복</p>]"
      ]
     },
     "execution_count": 35,
     "metadata": {},
     "output_type": "execute_result"
    }
   ],
   "source": [
    "# p태그 안의 author 가져오기\n",
    "soup3.select('p#author')"
   ]
  }
 ],
 "metadata": {
  "kernelspec": {
   "display_name": "Python 3",
   "language": "python",
   "name": "python3"
  },
  "language_info": {
   "codemirror_mode": {
    "name": "ipython",
    "version": 3
   },
   "file_extension": ".py",
   "mimetype": "text/x-python",
   "name": "python",
   "nbconvert_exporter": "python",
   "pygments_lexer": "ipython3",
   "version": "3.10.9"
  },
  "vscode": {
   "interpreter": {
    "hash": "44a1a76362b2cfa34b394dccff94ad7482f0bb191c32c07a6606c54d94e59e02"
   }
  }
 },
 "nbformat": 4,
 "nbformat_minor": 5
}
