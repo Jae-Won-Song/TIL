{
 "cells": [
  {
   "cell_type": "code",
   "execution_count": null,
   "id": "e440753e",
   "metadata": {},
   "outputs": [],
   "source": [
    "import pandas as pd\n",
    "import numpy as np"
   ]
  },
  {
   "cell_type": "code",
   "execution_count": null,
   "id": "cdc26695",
   "metadata": {
    "scrolled": true
   },
   "outputs": [],
   "source": [
    "chipo_df = pd.read_csv('./chipotle.tsv', sep='\\t')"
   ]
  },
  {
   "cell_type": "code",
   "execution_count": null,
   "id": "0f4ffec8",
   "metadata": {},
   "outputs": [],
   "source": [
    "chipo_df.columns"
   ]
  },
  {
   "cell_type": "code",
   "execution_count": null,
   "id": "3507ad26",
   "metadata": {},
   "outputs": [],
   "source": [
    "## q1. 데이터의 정보를 확인해주세요"
   ]
  },
  {
   "cell_type": "code",
   "execution_count": null,
   "id": "475af54a",
   "metadata": {},
   "outputs": [],
   "source": [
    "chipo_df.info()"
   ]
  },
  {
   "cell_type": "code",
   "execution_count": null,
   "id": "eaa4bde3",
   "metadata": {},
   "outputs": [],
   "source": [
    "## q2. quantity의 값이 3이상인 데이터들을 호출하고\n",
    "## 전체 수가 얼마인지 출력해주세요."
   ]
  },
  {
   "cell_type": "code",
   "execution_count": null,
   "id": "1b08c878",
   "metadata": {},
   "outputs": [],
   "source": [
    "chipo_df.loc[chipo_df['quantity']>=3].count()"
   ]
  },
  {
   "cell_type": "code",
   "execution_count": null,
   "id": "6ee5897e",
   "metadata": {},
   "outputs": [],
   "source": [
    "# solve \n",
    "cond = chipo_df.quantity>=3\n",
    "chipo_df[cond].shape[0]"
   ]
  },
  {
   "cell_type": "code",
   "execution_count": null,
   "id": "4d01f214",
   "metadata": {},
   "outputs": [],
   "source": [
    "## q3. item_price의 컬럼의 달러표시 문자를 없애고, float64bit 타입으로\n",
    "## 저장하여 new_price를 컬럼으로 하여 넣어주세요."
   ]
  },
  {
   "cell_type": "code",
   "execution_count": null,
   "id": "9ee3e396",
   "metadata": {},
   "outputs": [],
   "source": [
    "# 컬럼명 바꾸기\n",
    "chipo_df['item_price'] = chipo_df['item_price'].apply(lambda x: x.split('$')[-1])\n",
    "chipo_df.rename(columns={'item_price':'new_price'}, inplace=True)\n"
   ]
  },
  {
   "cell_type": "code",
   "execution_count": null,
   "id": "cdfe2349",
   "metadata": {},
   "outputs": [],
   "source": [
    "# solve\n",
    "chipo_df['new_price'] = chipo_df.item_price.str[1:].astype('float64')\n",
    "chipo_df"
   ]
  },
  {
   "cell_type": "code",
   "execution_count": null,
   "id": "b50924c5",
   "metadata": {},
   "outputs": [],
   "source": [
    "## q4. new_price의 컬럼값이 5이하인 데이터프레임을 추출하고 그 수를 구해주세요."
   ]
  },
  {
   "cell_type": "code",
   "execution_count": null,
   "id": "6408a4ba",
   "metadata": {},
   "outputs": [],
   "source": [
    "chipo_df\n"
   ]
  },
  {
   "cell_type": "code",
   "execution_count": null,
   "id": "694ddd85",
   "metadata": {},
   "outputs": [],
   "source": [
    "# solve\n",
    "chipo_df[chipo_df.new_price<=5].shape[0]"
   ]
  },
  {
   "cell_type": "code",
   "execution_count": null,
   "id": "e9b1be73",
   "metadata": {},
   "outputs": [],
   "source": [
    "## q5. new_price의 컬럼값이 9이하이고 item_name값이 Chicken Salad Bowl인 데이터\n",
    "## 프레임을 추출해주세요."
   ]
  },
  {
   "cell_type": "code",
   "execution_count": null,
   "id": "d839d512",
   "metadata": {},
   "outputs": [],
   "source": []
  },
  {
   "cell_type": "code",
   "execution_count": null,
   "id": "d89fb6a6",
   "metadata": {},
   "outputs": [],
   "source": [
    "# solve\n",
    "\n",
    "chipo_df[(chipo_df.new_price <=9) & (chipo_df.item_name=='Chicken Salad Bowl')].reset_index()"
   ]
  },
  {
   "cell_type": "code",
   "execution_count": null,
   "id": "e6d4ce56",
   "metadata": {},
   "outputs": [],
   "source": [
    "## q6. 데이터 프레임 new_price의 컬럼 값에 따라 오름차순으로 정리하고 index를 초기화하라"
   ]
  },
  {
   "cell_type": "code",
   "execution_count": null,
   "id": "3e8e7e15",
   "metadata": {},
   "outputs": [],
   "source": []
  },
  {
   "cell_type": "code",
   "execution_count": null,
   "id": "99e654ec",
   "metadata": {},
   "outputs": [],
   "source": [
    "# solve\n",
    "\n",
    "answer_q6 = chipo_df.sort_values(by = 'new_price').reset_index()\n",
    "print(answer_q6)"
   ]
  },
  {
   "cell_type": "code",
   "execution_count": null,
   "id": "4bf25f66",
   "metadata": {},
   "outputs": [],
   "source": [
    "## q7. 데이터 프레임의 item_name컬럼 값 중에서 Steak가 포함된 경우의 데이터의 수를 구해주세요."
   ]
  },
  {
   "cell_type": "code",
   "execution_count": null,
   "id": "70b61180",
   "metadata": {},
   "outputs": [],
   "source": []
  },
  {
   "cell_type": "code",
   "execution_count": null,
   "id": "fd709938",
   "metadata": {},
   "outputs": [],
   "source": [
    "# solve\n",
    "\n",
    "chipo_df[chipo_df.item_name.str.contains('Steak')]"
   ]
  },
  {
   "cell_type": "code",
   "execution_count": null,
   "id": "7469e0b2",
   "metadata": {},
   "outputs": [],
   "source": [
    "## q8. 데이터 프레임 new_price 컬럼값에 따라 내림차순으로 정리하고 index를 초기화해주세요."
   ]
  },
  {
   "cell_type": "code",
   "execution_count": null,
   "id": "18851ab8",
   "metadata": {},
   "outputs": [],
   "source": []
  },
  {
   "cell_type": "code",
   "execution_count": null,
   "id": "38eb297d",
   "metadata": {},
   "outputs": [],
   "source": [
    "# solve\n",
    "\n",
    "chipo_df.sort_values(by = 'new_price', ascending = False)"
   ]
  },
  {
   "cell_type": "code",
   "execution_count": null,
   "id": "4e4e7cbe",
   "metadata": {},
   "outputs": [],
   "source": [
    "## q9. 데이터 프레임 new_price 값이 new_price값의 평균값 이상을 가지는 데이터들을 인덱싱해주세요."
   ]
  },
  {
   "cell_type": "code",
   "execution_count": null,
   "id": "bf57ee50",
   "metadata": {},
   "outputs": [],
   "source": []
  },
  {
   "cell_type": "code",
   "execution_count": null,
   "id": "c3c676ec",
   "metadata": {},
   "outputs": [],
   "source": [
    "# solve\n",
    "\n",
    "chipo_df[chipo_df.new_price>=chipo_df.new_price.mean()]"
   ]
  },
  {
   "cell_type": "code",
   "execution_count": null,
   "id": "a77786cf",
   "metadata": {},
   "outputs": [],
   "source": [
    "## q10. 데이터 프레임 item_name에서 '6 Pack Soft Drink'의 값을 'pepsi'로 변형해주세요."
   ]
  },
  {
   "cell_type": "code",
   "execution_count": null,
   "id": "d5d9cf3d",
   "metadata": {},
   "outputs": [],
   "source": []
  },
  {
   "cell_type": "code",
   "execution_count": null,
   "id": "260fc2af",
   "metadata": {},
   "outputs": [],
   "source": [
    "# solve 1 lambda 활용\n",
    "chipo_df['item_name'] = chipo_df.item_name.apply(lambda x: 'pepsi' if x == '6 Pack Soft Drink' else x)\n",
    "chipo_df.item_name.value_counts()"
   ]
  },
  {
   "cell_type": "code",
   "execution_count": null,
   "id": "248cf75b",
   "metadata": {},
   "outputs": [],
   "source": [
    "# solve 2 loc 활용 loc[row :: 조건식 , col]\n",
    "chipo_df.loc[chipo_df.item_name =='6 Pack Soft Dring','item_name'] = 'pepsi'\n",
    "chipo_df.item_name.value_counts()"
   ]
  },
  {
   "cell_type": "code",
   "execution_count": null,
   "id": "fd3aa79c",
   "metadata": {},
   "outputs": [],
   "source": [
    "## q11. 전체 결측값(Missing Value)에 대한 갯수를 구하고, 그 값을 'N'으로 대체해주세요."
   ]
  },
  {
   "cell_type": "code",
   "execution_count": null,
   "id": "84e7e662",
   "metadata": {},
   "outputs": [],
   "source": [
    "chipo_df.isna()"
   ]
  },
  {
   "cell_type": "code",
   "execution_count": null,
   "id": "d27a8fe5",
   "metadata": {},
   "outputs": [],
   "source": [
    "# solve \n",
    "\n",
    "chipo_df['choice_description'] = chipo_df.choice_description.fillna('N')\n",
    "chipo_df"
   ]
  },
  {
   "cell_type": "code",
   "execution_count": null,
   "id": "0327ecf4",
   "metadata": {},
   "outputs": [],
   "source": [
    "## q12. 데이터 프레임에서 choice_description 컬럼 값에서 Black이 들어가지 않는 경우를 인덱싱 해주세요."
   ]
  },
  {
   "cell_type": "code",
   "execution_count": null,
   "id": "ec0de01b",
   "metadata": {},
   "outputs": [],
   "source": []
  },
  {
   "cell_type": "code",
   "execution_count": null,
   "id": "e4594cfa",
   "metadata": {},
   "outputs": [],
   "source": [
    "# solve\n",
    "\n",
    "chipo_df[~(chipo_df.choice_description.str.contains('Black'))]"
   ]
  },
  {
   "cell_type": "code",
   "execution_count": null,
   "id": "237af70f",
   "metadata": {},
   "outputs": [],
   "source": [
    "## q13. 데이터 프레임에서 item_name 값의 단어의 수가 15개 이상인 데이터를 인덱싱 해주세요."
   ]
  },
  {
   "cell_type": "code",
   "execution_count": null,
   "id": "2a8772de",
   "metadata": {},
   "outputs": [],
   "source": []
  },
  {
   "cell_type": "code",
   "execution_count": null,
   "id": "2cae3ab8",
   "metadata": {},
   "outputs": [],
   "source": [
    "# solve 1 lambda사용\n",
    "\n",
    "chipo_df[chipo_df.item_name.apply(lambda x: len(x)>=15)]"
   ]
  },
  {
   "cell_type": "code",
   "execution_count": null,
   "id": "c57ed469",
   "metadata": {},
   "outputs": [],
   "source": [
    "# solve 2 condition indexing\n",
    "\n",
    "chipo_df[chipo_df.item_name.str.len()>=15]"
   ]
  },
  {
   "cell_type": "code",
   "execution_count": null,
   "id": "efbdc15e",
   "metadata": {},
   "outputs": [],
   "source": [
    "# end of file"
   ]
  }
 ],
 "metadata": {
  "kernelspec": {
   "display_name": "Python 3 (ipykernel)",
   "language": "python",
   "name": "python3"
  },
  "language_info": {
   "codemirror_mode": {
    "name": "ipython",
    "version": 3
   },
   "file_extension": ".py",
   "mimetype": "text/x-python",
   "name": "python",
   "nbconvert_exporter": "python",
   "pygments_lexer": "ipython3",
   "version": "3.9.13"
  }
 },
 "nbformat": 4,
 "nbformat_minor": 5
}
