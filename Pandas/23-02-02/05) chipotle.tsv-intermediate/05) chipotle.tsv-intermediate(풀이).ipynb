{
 "cells": [
  {
   "cell_type": "code",
   "execution_count": 2,
   "id": "e440753e",
   "metadata": {},
   "outputs": [],
   "source": [
    "import pandas as pd\n",
    "import numpy as np"
   ]
  },
  {
   "cell_type": "code",
   "execution_count": 3,
   "id": "cdc26695",
   "metadata": {
    "scrolled": true
   },
   "outputs": [],
   "source": [
    "chipo_df = pd.read_csv('./chipotle.tsv', sep='\\t')"
   ]
  },
  {
   "cell_type": "code",
   "execution_count": 4,
   "id": "0f4ffec8",
   "metadata": {},
   "outputs": [
    {
     "data": {
      "text/plain": [
       "Index(['order_id', 'quantity', 'item_name', 'choice_description',\n",
       "       'item_price'],\n",
       "      dtype='object')"
      ]
     },
     "execution_count": 4,
     "metadata": {},
     "output_type": "execute_result"
    }
   ],
   "source": [
    "chipo_df.columns"
   ]
  },
  {
   "cell_type": "code",
   "execution_count": 5,
   "id": "3507ad26",
   "metadata": {},
   "outputs": [],
   "source": [
    "## q1. 데이터의 정보를 확인해주세요"
   ]
  },
  {
   "cell_type": "code",
   "execution_count": 9,
   "id": "475af54a",
   "metadata": {},
   "outputs": [
    {
     "name": "stdout",
     "output_type": "stream",
     "text": [
      "<class 'pandas.core.frame.DataFrame'>\n",
      "RangeIndex: 4622 entries, 0 to 4621\n",
      "Data columns (total 5 columns):\n",
      " #   Column              Non-Null Count  Dtype \n",
      "---  ------              --------------  ----- \n",
      " 0   order_id            4622 non-null   int64 \n",
      " 1   quantity            4622 non-null   int64 \n",
      " 2   item_name           4622 non-null   object\n",
      " 3   choice_description  3376 non-null   object\n",
      " 4   item_price          4622 non-null   object\n",
      "dtypes: int64(2), object(3)\n",
      "memory usage: 180.7+ KB\n"
     ]
    }
   ],
   "source": [
    "chipo_df.info()"
   ]
  },
  {
   "cell_type": "code",
   "execution_count": 7,
   "id": "eaa4bde3",
   "metadata": {},
   "outputs": [],
   "source": [
    "## q2. quantity의 값이 3이상인 데이터들을 호출하고\n",
    "## 전체 수가 얼마인지 출력해주세요."
   ]
  },
  {
   "cell_type": "code",
   "execution_count": 8,
   "id": "ac98cead",
   "metadata": {},
   "outputs": [
    {
     "data": {
      "text/plain": [
       "43"
      ]
     },
     "execution_count": 8,
     "metadata": {},
     "output_type": "execute_result"
    }
   ],
   "source": [
    "cond = chipo_df.quantity>=3\n",
    "chipo_df[cond].shape[0]"
   ]
  },
  {
   "cell_type": "code",
   "execution_count": 11,
   "id": "1b08c878",
   "metadata": {},
   "outputs": [
    {
     "data": {
      "text/plain": [
       "43"
      ]
     },
     "execution_count": 11,
     "metadata": {},
     "output_type": "execute_result"
    }
   ],
   "source": [
    "len(chipo_df[chipo_df.quantity>=3])"
   ]
  },
  {
   "cell_type": "code",
   "execution_count": 12,
   "id": "4d01f214",
   "metadata": {},
   "outputs": [],
   "source": [
    "## q3. item_price의 컬럼의 달러표시 문자를 없애고, float64bit 타입으로\n",
    "## 저장하여 new_price를 컬럼으로 하여 넣어주세요."
   ]
  },
  {
   "cell_type": "code",
   "execution_count": 13,
   "id": "756d7564",
   "metadata": {},
   "outputs": [
    {
     "data": {
      "text/html": [
       "<div>\n",
       "<style scoped>\n",
       "    .dataframe tbody tr th:only-of-type {\n",
       "        vertical-align: middle;\n",
       "    }\n",
       "\n",
       "    .dataframe tbody tr th {\n",
       "        vertical-align: top;\n",
       "    }\n",
       "\n",
       "    .dataframe thead th {\n",
       "        text-align: right;\n",
       "    }\n",
       "</style>\n",
       "<table border=\"1\" class=\"dataframe\">\n",
       "  <thead>\n",
       "    <tr style=\"text-align: right;\">\n",
       "      <th></th>\n",
       "      <th>order_id</th>\n",
       "      <th>quantity</th>\n",
       "      <th>item_name</th>\n",
       "      <th>choice_description</th>\n",
       "      <th>item_price</th>\n",
       "      <th>new_price</th>\n",
       "    </tr>\n",
       "  </thead>\n",
       "  <tbody>\n",
       "    <tr>\n",
       "      <th>0</th>\n",
       "      <td>1</td>\n",
       "      <td>1</td>\n",
       "      <td>Chips and Fresh Tomato Salsa</td>\n",
       "      <td>NaN</td>\n",
       "      <td>$2.39</td>\n",
       "      <td>2.39</td>\n",
       "    </tr>\n",
       "    <tr>\n",
       "      <th>1</th>\n",
       "      <td>1</td>\n",
       "      <td>1</td>\n",
       "      <td>Izze</td>\n",
       "      <td>[Clementine]</td>\n",
       "      <td>$3.39</td>\n",
       "      <td>3.39</td>\n",
       "    </tr>\n",
       "    <tr>\n",
       "      <th>2</th>\n",
       "      <td>1</td>\n",
       "      <td>1</td>\n",
       "      <td>Nantucket Nectar</td>\n",
       "      <td>[Apple]</td>\n",
       "      <td>$3.39</td>\n",
       "      <td>3.39</td>\n",
       "    </tr>\n",
       "    <tr>\n",
       "      <th>3</th>\n",
       "      <td>1</td>\n",
       "      <td>1</td>\n",
       "      <td>Chips and Tomatillo-Green Chili Salsa</td>\n",
       "      <td>NaN</td>\n",
       "      <td>$2.39</td>\n",
       "      <td>2.39</td>\n",
       "    </tr>\n",
       "    <tr>\n",
       "      <th>4</th>\n",
       "      <td>2</td>\n",
       "      <td>2</td>\n",
       "      <td>Chicken Bowl</td>\n",
       "      <td>[Tomatillo-Red Chili Salsa (Hot), [Black Beans...</td>\n",
       "      <td>$16.98</td>\n",
       "      <td>16.98</td>\n",
       "    </tr>\n",
       "    <tr>\n",
       "      <th>...</th>\n",
       "      <td>...</td>\n",
       "      <td>...</td>\n",
       "      <td>...</td>\n",
       "      <td>...</td>\n",
       "      <td>...</td>\n",
       "      <td>...</td>\n",
       "    </tr>\n",
       "    <tr>\n",
       "      <th>4617</th>\n",
       "      <td>1833</td>\n",
       "      <td>1</td>\n",
       "      <td>Steak Burrito</td>\n",
       "      <td>[Fresh Tomato Salsa, [Rice, Black Beans, Sour ...</td>\n",
       "      <td>$11.75</td>\n",
       "      <td>11.75</td>\n",
       "    </tr>\n",
       "    <tr>\n",
       "      <th>4618</th>\n",
       "      <td>1833</td>\n",
       "      <td>1</td>\n",
       "      <td>Steak Burrito</td>\n",
       "      <td>[Fresh Tomato Salsa, [Rice, Sour Cream, Cheese...</td>\n",
       "      <td>$11.75</td>\n",
       "      <td>11.75</td>\n",
       "    </tr>\n",
       "    <tr>\n",
       "      <th>4619</th>\n",
       "      <td>1834</td>\n",
       "      <td>1</td>\n",
       "      <td>Chicken Salad Bowl</td>\n",
       "      <td>[Fresh Tomato Salsa, [Fajita Vegetables, Pinto...</td>\n",
       "      <td>$11.25</td>\n",
       "      <td>11.25</td>\n",
       "    </tr>\n",
       "    <tr>\n",
       "      <th>4620</th>\n",
       "      <td>1834</td>\n",
       "      <td>1</td>\n",
       "      <td>Chicken Salad Bowl</td>\n",
       "      <td>[Fresh Tomato Salsa, [Fajita Vegetables, Lettu...</td>\n",
       "      <td>$8.75</td>\n",
       "      <td>8.75</td>\n",
       "    </tr>\n",
       "    <tr>\n",
       "      <th>4621</th>\n",
       "      <td>1834</td>\n",
       "      <td>1</td>\n",
       "      <td>Chicken Salad Bowl</td>\n",
       "      <td>[Fresh Tomato Salsa, [Fajita Vegetables, Pinto...</td>\n",
       "      <td>$8.75</td>\n",
       "      <td>8.75</td>\n",
       "    </tr>\n",
       "  </tbody>\n",
       "</table>\n",
       "<p>4622 rows × 6 columns</p>\n",
       "</div>"
      ],
      "text/plain": [
       "      order_id  quantity                              item_name  \\\n",
       "0            1         1           Chips and Fresh Tomato Salsa   \n",
       "1            1         1                                   Izze   \n",
       "2            1         1                       Nantucket Nectar   \n",
       "3            1         1  Chips and Tomatillo-Green Chili Salsa   \n",
       "4            2         2                           Chicken Bowl   \n",
       "...        ...       ...                                    ...   \n",
       "4617      1833         1                          Steak Burrito   \n",
       "4618      1833         1                          Steak Burrito   \n",
       "4619      1834         1                     Chicken Salad Bowl   \n",
       "4620      1834         1                     Chicken Salad Bowl   \n",
       "4621      1834         1                     Chicken Salad Bowl   \n",
       "\n",
       "                                     choice_description item_price  new_price  \n",
       "0                                                   NaN     $2.39        2.39  \n",
       "1                                          [Clementine]     $3.39        3.39  \n",
       "2                                               [Apple]     $3.39        3.39  \n",
       "3                                                   NaN     $2.39        2.39  \n",
       "4     [Tomatillo-Red Chili Salsa (Hot), [Black Beans...    $16.98       16.98  \n",
       "...                                                 ...        ...        ...  \n",
       "4617  [Fresh Tomato Salsa, [Rice, Black Beans, Sour ...    $11.75       11.75  \n",
       "4618  [Fresh Tomato Salsa, [Rice, Sour Cream, Cheese...    $11.75       11.75  \n",
       "4619  [Fresh Tomato Salsa, [Fajita Vegetables, Pinto...    $11.25       11.25  \n",
       "4620  [Fresh Tomato Salsa, [Fajita Vegetables, Lettu...     $8.75        8.75  \n",
       "4621  [Fresh Tomato Salsa, [Fajita Vegetables, Pinto...     $8.75        8.75  \n",
       "\n",
       "[4622 rows x 6 columns]"
      ]
     },
     "execution_count": 13,
     "metadata": {},
     "output_type": "execute_result"
    }
   ],
   "source": [
    "chipo_df['new_price'] = chipo_df.item_price.str[1:].astype('float64')\n",
    "chipo_df"
   ]
  },
  {
   "cell_type": "code",
   "execution_count": null,
   "id": "b50924c5",
   "metadata": {},
   "outputs": [],
   "source": [
    "## q4. new_price의 컬럼값이 5이하인 데이터프레임을 추출하고 그 수를 구해주세요."
   ]
  },
  {
   "cell_type": "code",
   "execution_count": null,
   "id": "6408a4ba",
   "metadata": {},
   "outputs": [],
   "source": [
    "chipo_df[chipo_df.new_price<=5].shape[0]"
   ]
  },
  {
   "cell_type": "code",
   "execution_count": null,
   "id": "e9b1be73",
   "metadata": {},
   "outputs": [],
   "source": [
    "## q5. new_price의 컬럼값이 9이하이고 item_name값이 Chicken Salad Bowl인 데이터\n",
    "## 프레임을 추출해주세요."
   ]
  },
  {
   "cell_type": "code",
   "execution_count": null,
   "id": "d839d512",
   "metadata": {},
   "outputs": [],
   "source": [
    "answer = chipo_df[(chipo_df.new_price <=9)&(chipo_df.item_name=='Chicken Salad Bowl')].reset_index()\n",
    "print(answer)"
   ]
  },
  {
   "cell_type": "code",
   "execution_count": null,
   "id": "e6d4ce56",
   "metadata": {},
   "outputs": [],
   "source": [
    "## q6. 데이터 프레임 new_price의 컬럼 값에 따라 오름차순으로 정리하고 index를 초기화하라"
   ]
  },
  {
   "cell_type": "code",
   "execution_count": null,
   "id": "3e8e7e15",
   "metadata": {},
   "outputs": [],
   "source": [
    "answer_q6 = chipo_df.sort_values(by='new_price').reset_index()\n",
    "print(answer_q6)"
   ]
  },
  {
   "cell_type": "code",
   "execution_count": null,
   "id": "4bf25f66",
   "metadata": {},
   "outputs": [],
   "source": [
    "## q7. 데이터 프레임의 item_name컬럼 값 중에서 Steak가 포함된 경우의 데이터의 수를 구해주세요."
   ]
  },
  {
   "cell_type": "code",
   "execution_count": null,
   "id": "70b61180",
   "metadata": {},
   "outputs": [],
   "source": [
    "chipo_df[chipo_df.item_name.str.contains('Steak')].item_name.value_counts()"
   ]
  },
  {
   "cell_type": "code",
   "execution_count": null,
   "id": "7469e0b2",
   "metadata": {},
   "outputs": [],
   "source": [
    "## q8. 데이터 프레임 new_price 컬럼값에 따라 내림차순으로 정리하고 index를 초기화해주세요."
   ]
  },
  {
   "cell_type": "code",
   "execution_count": null,
   "id": "18851ab8",
   "metadata": {},
   "outputs": [],
   "source": [
    "answerq8 = chipo_df.sort_values(by='new_price', ascending=False)"
   ]
  },
  {
   "cell_type": "code",
   "execution_count": null,
   "id": "4e4e7cbe",
   "metadata": {},
   "outputs": [],
   "source": [
    "## q9. 데이터 프레임 new_price 값이 new_price값의 평균값 이상을 가지는 데이터들을 인덱싱해주세요."
   ]
  },
  {
   "cell_type": "code",
   "execution_count": null,
   "id": "bf57ee50",
   "metadata": {},
   "outputs": [],
   "source": [
    "chipo_df[chipo_df.new_price>=chipo_df.new_price.mean()]"
   ]
  },
  {
   "cell_type": "code",
   "execution_count": null,
   "id": "a77786cf",
   "metadata": {},
   "outputs": [],
   "source": [
    "## q10. 데이터 프레임 item_name에서 '6 Pack Soft Drink'의 값을 'pepsi'로 변형해주세요. - 난이도 상"
   ]
  },
  {
   "cell_type": "code",
   "execution_count": null,
   "id": "d5d9cf3d",
   "metadata": {},
   "outputs": [],
   "source": [
    "# 1 - lambda를 활용한 식\n",
    "# chipo_df['item_name'] = chipo_df.item_name.apply(lambda x : 'pepsi' if x == '6 Pack Soft Drink' else x)"
   ]
  },
  {
   "cell_type": "code",
   "execution_count": null,
   "id": "92ecd4e7",
   "metadata": {},
   "outputs": [],
   "source": [
    "# 2 - loc를 활용 loc [row:: 조건식... , col]\n",
    "chipo_df.loc[chipo_df.item_name=='6 Pack Soft Drink','item_name'] = 'pepsi' "
   ]
  },
  {
   "cell_type": "code",
   "execution_count": null,
   "id": "fd3aa79c",
   "metadata": {},
   "outputs": [],
   "source": [
    "## q11. 전체 결측값(Missing Value)에 대한 갯수를 구하고, 그 값을 'N'으로 대체해주세요."
   ]
  },
  {
   "cell_type": "code",
   "execution_count": null,
   "id": "d27a8fe5",
   "metadata": {},
   "outputs": [],
   "source": [
    "chipo_df['choice_description'] = chipo_df.choice_description.fillna('N')\n",
    "chipo_df"
   ]
  },
  {
   "cell_type": "code",
   "execution_count": null,
   "id": "0327ecf4",
   "metadata": {},
   "outputs": [],
   "source": [
    "## q12. 데이터 프레임에서 choice_description 컬럼 값에서 Black이 들어가지 않는 경우를 인덱싱 해주세요."
   ]
  },
  {
   "cell_type": "code",
   "execution_count": null,
   "id": "ec0de01b",
   "metadata": {},
   "outputs": [],
   "source": [
    "chipo_df[~(chipo_df.choice_description.str.contains('Black'))]"
   ]
  },
  {
   "cell_type": "code",
   "execution_count": null,
   "id": "237af70f",
   "metadata": {},
   "outputs": [],
   "source": [
    "## q13. 데이터 프레임에서 item_name 값의 단어의 수가 15개 이상인 데이터를 인덱싱 해주세요."
   ]
  },
  {
   "cell_type": "code",
   "execution_count": null,
   "id": "aac4800d",
   "metadata": {},
   "outputs": [],
   "source": [
    "# 1. lambda를 사용한다."
   ]
  },
  {
   "cell_type": "code",
   "execution_count": null,
   "id": "2ce65ff1",
   "metadata": {},
   "outputs": [],
   "source": [
    "chipo_df[chipo_df.item_name.apply(lambda x: len(x)>=15)]"
   ]
  },
  {
   "cell_type": "code",
   "execution_count": null,
   "id": "4a8ffb40",
   "metadata": {},
   "outputs": [],
   "source": [
    "# 2. condition indexing"
   ]
  },
  {
   "cell_type": "code",
   "execution_count": null,
   "id": "9fb237d1",
   "metadata": {},
   "outputs": [],
   "source": [
    "chipo_df[chipo_df.item_name.str.len()>=15]"
   ]
  },
  {
   "cell_type": "code",
   "execution_count": null,
   "id": "efbdc15e",
   "metadata": {},
   "outputs": [],
   "source": [
    "# end of file"
   ]
  }
 ],
 "metadata": {
  "kernelspec": {
   "display_name": "Python 3 (ipykernel)",
   "language": "python",
   "name": "python3"
  },
  "language_info": {
   "codemirror_mode": {
    "name": "ipython",
    "version": 3
   },
   "file_extension": ".py",
   "mimetype": "text/x-python",
   "name": "python",
   "nbconvert_exporter": "python",
   "pygments_lexer": "ipython3",
   "version": "3.9.13"
  }
 },
 "nbformat": 4,
 "nbformat_minor": 5
}
