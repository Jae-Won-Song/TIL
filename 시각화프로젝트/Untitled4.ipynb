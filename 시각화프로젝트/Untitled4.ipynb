{
 "cells": [
  {
   "cell_type": "code",
   "execution_count": 15,
   "id": "1520f259",
   "metadata": {},
   "outputs": [],
   "source": [
    "import requests\n",
    "from bs4 import BeautifulSoup\n",
    "import pandas as pd\n",
    "\n",
    "# 크롤링할 종목 \n",
    "\n",
    "# 페이지 URL 설정\n",
    "url = \"https://comic.naver.com/index\"\n",
    "\n",
    "# 웹 페이지에 접속\n",
    "response = requests.get(url)\n",
    "\n",
    "# HTML 문서 파싱\n",
    "soup = BeautifulSoup(response.content, \"html.parser\")\n",
    "\n",
    "# 종목 이름 추출\n",
    "name = soup.select(\".title > a\")\n",
    "\n",
    "\n",
    "# 결과 출력\n",
    "\n",
    "for tag in name:\n",
    "    print(name.get_text())\n",
    "\n",
    "\n"
   ]
  },
  {
   "cell_type": "code",
   "execution_count": 16,
   "id": "8b847f2f",
   "metadata": {},
   "outputs": [],
   "source": [
    "import requests\n",
    "from bs4 import BeautifulSoup\n",
    "\n",
    "url = 'https://comic.naver.com/index'\n",
    "response = requests.get(url)\n",
    "soup = BeautifulSoup(response.text, 'html.parser')\n",
    "\n",
    "rank_list = soup.select('.realtime .list li')\n",
    "for rank in rank_list:\n",
    "    title = rank.select_one('a.title').text.strip()\n",
    "    author = rank.select_one('a.author').text.strip()\n",
    "    print(title, author)\n"
   ]
  }
 ],
 "metadata": {
  "kernelspec": {
   "display_name": "Python 3 (ipykernel)",
   "language": "python",
   "name": "python3"
  },
  "language_info": {
   "codemirror_mode": {
    "name": "ipython",
    "version": 3
   },
   "file_extension": ".py",
   "mimetype": "text/x-python",
   "name": "python",
   "nbconvert_exporter": "python",
   "pygments_lexer": "ipython3",
   "version": "3.9.13"
  }
 },
 "nbformat": 4,
 "nbformat_minor": 5
}
