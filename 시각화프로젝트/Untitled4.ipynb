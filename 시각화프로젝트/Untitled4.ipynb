{
 "cells": [
  {
   "cell_type": "code",
   "execution_count": 40,
   "id": "aa700b02",
   "metadata": {},
   "outputs": [
    {
     "name": "stdout",
     "output_type": "stream",
     "text": [
      "종목명: 삼성전자\n",
      "현재가: 61,300\n",
      "시가총액: 3,659,477 억원\n"
     ]
    }
   ],
   "source": [
    "import requests\n",
    "from bs4 import BeautifulSoup\n",
    "import pandas as pd\n",
    "\n",
    "# 크롤링할 종목 코드 설정\n",
    "code = \"005930\"  # 삼성전자 종목 코드\n",
    "\n",
    "# 종목 주가 페이지 URL 설정\n",
    "url = \"https://finance.naver.com/item/sise.naver?code=\" + code\n",
    "\n",
    "# 웹 페이지에 접속\n",
    "response = requests.get(url)\n",
    "\n",
    "# HTML 문서 파싱\n",
    "soup = BeautifulSoup(response.content, \"html.parser\")\n",
    "\n",
    "# 종목 이름 추출\n",
    "name = soup.select_one(\"div.wrap_company h2 a\").text\n",
    "\n",
    "# 현재가 추출\n",
    "price = soup.select_one(\"strong.tah.p11\").text\n",
    "\n",
    "# 시가총액 추출\n",
    "market_cap = soup.select_one(\"#_sise_market_sum\").text\n",
    "\n",
    "# 결과 출력\n",
    "print(\"종목명:\", name)\n",
    "print(\"현재가:\", price)\n",
    "print(\"시가총액:\", market_cap,\"억원\")\n",
    "\n",
    "# 결과를 csv 파일로 저장\n",
    "data = {\"종목명\": [name], \"현재가\": [price], \"시가총액\": [market_cap]}\n",
    "df = pd.DataFrame(data)\n",
    "df.to_csv(\"stock.csv\", index=False)\n"
   ]
  },
  {
   "cell_type": "code",
   "execution_count": null,
   "id": "502fe42e",
   "metadata": {},
   "outputs": [],
   "source": []
  }
 ],
 "metadata": {
  "kernelspec": {
   "display_name": "Python 3 (ipykernel)",
   "language": "python",
   "name": "python3"
  },
  "language_info": {
   "codemirror_mode": {
    "name": "ipython",
    "version": 3
   },
   "file_extension": ".py",
   "mimetype": "text/x-python",
   "name": "python",
   "nbconvert_exporter": "python",
   "pygments_lexer": "ipython3",
   "version": "3.9.13"
  }
 },
 "nbformat": 4,
 "nbformat_minor": 5
}
