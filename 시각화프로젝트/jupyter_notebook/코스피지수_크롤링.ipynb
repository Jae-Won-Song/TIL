{
 "cells": [
  {
   "cell_type": "code",
   "execution_count": 2,
   "id": "c7da133a",
   "metadata": {},
   "outputs": [
    {
     "name": "stdout",
     "output_type": "stream",
     "text": [
      "         N         종목명       현재가      전일비     등락률     액면가         거래량  \\\n",
      "0      1.0        삼성전자   63600.0   1400.0  +2.25%   100.0  11937208.0   \n",
      "1      2.0    LG에너지솔루션  548000.0  21000.0  +3.98%   500.0    365173.0   \n",
      "2      3.0      SK하이닉스   92900.0   1200.0  +1.31%  5000.0   1618236.0   \n",
      "3      4.0    삼성바이오로직스  806000.0  12000.0  +1.51%  2500.0     41024.0   \n",
      "4      5.0        LG화학  717000.0  43000.0  +6.38%  5000.0    382670.0   \n",
      "..     ...         ...       ...      ...     ...     ...         ...   \n",
      "195  196.0  KBSTAR 200   32985.0    625.0  +1.93%     0.0     71991.0   \n",
      "196  197.0          DL   58000.0    900.0  +1.58%  5000.0     45151.0   \n",
      "197  198.0      동원시스템즈   41500.0    900.0  +2.22%  5000.0     19923.0   \n",
      "198  199.0     일진하이솔루스   32650.0    900.0  +2.83%   500.0     53847.0   \n",
      "199  200.0        율촌화학   47350.0    950.0  +2.05%   500.0    108785.0   \n",
      "\n",
      "           고가        저가    ROA  \n",
      "0     63700.0   62400.0   9.92  \n",
      "1    549000.0  531000.0   4.26  \n",
      "2     93400.0   91600.0  11.48  \n",
      "3    810000.0  795000.0   5.47  \n",
      "4    728000.0  675000.0   8.55  \n",
      "..        ...       ...    ...  \n",
      "195   33055.0   32455.0    NaN  \n",
      "196   58500.0   57100.0   7.87  \n",
      "197   41700.0   40450.0   3.50  \n",
      "198   33000.0   31900.0   4.22  \n",
      "199   47600.0   46050.0   1.32  \n",
      "\n",
      "[200 rows x 10 columns]\n"
     ]
    }
   ],
   "source": [
    "import pandas as pd\n",
    "import numpy as np\n",
    "\n",
    "kospi_df = pd.read_csv('C:/Users/TECH2_25/TIL/시각화프로젝트/kospi.csv')\n",
    "print(kospi_df)\n",
    "\n"
   ]
  },
  {
   "cell_type": "code",
   "execution_count": 4,
   "id": "cb827457",
   "metadata": {
    "scrolled": true
   },
   "outputs": [
    {
     "data": {
      "text/plain": [
       "N       0\n",
       "종목명     0\n",
       "현재가     0\n",
       "전일비     0\n",
       "등락률     0\n",
       "액면가     0\n",
       "거래량     0\n",
       "고가      0\n",
       "저가      0\n",
       "ROA    27\n",
       "dtype: int64"
      ]
     },
     "execution_count": 4,
     "metadata": {},
     "output_type": "execute_result"
    }
   ],
   "source": [
    "kospi_df.isna().sum()\n",
    "\n",
    "# ROA에 결측치 27개 존재"
   ]
  },
  {
   "cell_type": "code",
   "execution_count": 9,
   "id": "fdb74433",
   "metadata": {},
   "outputs": [
    {
     "name": "stdout",
     "output_type": "stream",
     "text": [
      "<class 'pandas.core.frame.DataFrame'>\n",
      "RangeIndex: 200 entries, 0 to 199\n",
      "Data columns (total 10 columns):\n",
      " #   Column  Non-Null Count  Dtype  \n",
      "---  ------  --------------  -----  \n",
      " 0   N       200 non-null    float64\n",
      " 1   종목명     200 non-null    object \n",
      " 2   현재가     200 non-null    float64\n",
      " 3   전일비     200 non-null    float64\n",
      " 4   등락률     200 non-null    object \n",
      " 5   액면가     200 non-null    float64\n",
      " 6   거래량     200 non-null    float64\n",
      " 7   고가      200 non-null    float64\n",
      " 8   저가      200 non-null    float64\n",
      " 9   ROA     173 non-null    float64\n",
      "dtypes: float64(8), object(2)\n",
      "memory usage: 15.8+ KB\n"
     ]
    }
   ],
   "source": [
    "kospi_df.info()"
   ]
  },
  {
   "cell_type": "code",
   "execution_count": 10,
   "id": "eb13bb7b",
   "metadata": {},
   "outputs": [
    {
     "data": {
      "text/plain": [
       "0       9.92\n",
       "1       4.26\n",
       "2      11.48\n",
       "3       5.47\n",
       "4       8.55\n",
       "       ...  \n",
       "195      NaN\n",
       "196     7.87\n",
       "197     3.50\n",
       "198     4.22\n",
       "199     1.32\n",
       "Name: ROA, Length: 200, dtype: float64"
      ]
     },
     "execution_count": 10,
     "metadata": {},
     "output_type": "execute_result"
    }
   ],
   "source": [
    "kospi_df['ROA']"
   ]
  },
  {
   "cell_type": "code",
   "execution_count": 11,
   "id": "2ce1ad72",
   "metadata": {},
   "outputs": [
    {
     "data": {
      "text/plain": [
       "Index(['N', '종목명', '현재가', '전일비', '등락률', '액면가', '거래량', '고가', '저가', 'ROA'], dtype='object')"
      ]
     },
     "execution_count": 11,
     "metadata": {},
     "output_type": "execute_result"
    }
   ],
   "source": [
    "kospi_df.columns"
   ]
  },
  {
   "cell_type": "code",
   "execution_count": 16,
   "id": "f62ad667",
   "metadata": {},
   "outputs": [],
   "source": [
    "kospi_df.drop(['ROA', '등락률', 'N'], axis = 1, inplace=True)"
   ]
  },
  {
   "cell_type": "code",
   "execution_count": 17,
   "id": "d27c352b",
   "metadata": {},
   "outputs": [
    {
     "data": {
      "text/html": [
       "<div>\n",
       "<style scoped>\n",
       "    .dataframe tbody tr th:only-of-type {\n",
       "        vertical-align: middle;\n",
       "    }\n",
       "\n",
       "    .dataframe tbody tr th {\n",
       "        vertical-align: top;\n",
       "    }\n",
       "\n",
       "    .dataframe thead th {\n",
       "        text-align: right;\n",
       "    }\n",
       "</style>\n",
       "<table border=\"1\" class=\"dataframe\">\n",
       "  <thead>\n",
       "    <tr style=\"text-align: right;\">\n",
       "      <th></th>\n",
       "      <th>종목명</th>\n",
       "      <th>현재가</th>\n",
       "      <th>전일비</th>\n",
       "      <th>액면가</th>\n",
       "      <th>거래량</th>\n",
       "      <th>고가</th>\n",
       "      <th>저가</th>\n",
       "    </tr>\n",
       "  </thead>\n",
       "  <tbody>\n",
       "    <tr>\n",
       "      <th>0</th>\n",
       "      <td>삼성전자</td>\n",
       "      <td>63600.0</td>\n",
       "      <td>1400.0</td>\n",
       "      <td>100.0</td>\n",
       "      <td>11937208.0</td>\n",
       "      <td>63700.0</td>\n",
       "      <td>62400.0</td>\n",
       "    </tr>\n",
       "    <tr>\n",
       "      <th>1</th>\n",
       "      <td>LG에너지솔루션</td>\n",
       "      <td>548000.0</td>\n",
       "      <td>21000.0</td>\n",
       "      <td>500.0</td>\n",
       "      <td>365173.0</td>\n",
       "      <td>549000.0</td>\n",
       "      <td>531000.0</td>\n",
       "    </tr>\n",
       "    <tr>\n",
       "      <th>2</th>\n",
       "      <td>SK하이닉스</td>\n",
       "      <td>92900.0</td>\n",
       "      <td>1200.0</td>\n",
       "      <td>5000.0</td>\n",
       "      <td>1618236.0</td>\n",
       "      <td>93400.0</td>\n",
       "      <td>91600.0</td>\n",
       "    </tr>\n",
       "    <tr>\n",
       "      <th>3</th>\n",
       "      <td>삼성바이오로직스</td>\n",
       "      <td>806000.0</td>\n",
       "      <td>12000.0</td>\n",
       "      <td>2500.0</td>\n",
       "      <td>41024.0</td>\n",
       "      <td>810000.0</td>\n",
       "      <td>795000.0</td>\n",
       "    </tr>\n",
       "    <tr>\n",
       "      <th>4</th>\n",
       "      <td>LG화학</td>\n",
       "      <td>717000.0</td>\n",
       "      <td>43000.0</td>\n",
       "      <td>5000.0</td>\n",
       "      <td>382670.0</td>\n",
       "      <td>728000.0</td>\n",
       "      <td>675000.0</td>\n",
       "    </tr>\n",
       "    <tr>\n",
       "      <th>...</th>\n",
       "      <td>...</td>\n",
       "      <td>...</td>\n",
       "      <td>...</td>\n",
       "      <td>...</td>\n",
       "      <td>...</td>\n",
       "      <td>...</td>\n",
       "      <td>...</td>\n",
       "    </tr>\n",
       "    <tr>\n",
       "      <th>195</th>\n",
       "      <td>KBSTAR 200</td>\n",
       "      <td>32985.0</td>\n",
       "      <td>625.0</td>\n",
       "      <td>0.0</td>\n",
       "      <td>71991.0</td>\n",
       "      <td>33055.0</td>\n",
       "      <td>32455.0</td>\n",
       "    </tr>\n",
       "    <tr>\n",
       "      <th>196</th>\n",
       "      <td>DL</td>\n",
       "      <td>58000.0</td>\n",
       "      <td>900.0</td>\n",
       "      <td>5000.0</td>\n",
       "      <td>45151.0</td>\n",
       "      <td>58500.0</td>\n",
       "      <td>57100.0</td>\n",
       "    </tr>\n",
       "    <tr>\n",
       "      <th>197</th>\n",
       "      <td>동원시스템즈</td>\n",
       "      <td>41500.0</td>\n",
       "      <td>900.0</td>\n",
       "      <td>5000.0</td>\n",
       "      <td>19923.0</td>\n",
       "      <td>41700.0</td>\n",
       "      <td>40450.0</td>\n",
       "    </tr>\n",
       "    <tr>\n",
       "      <th>198</th>\n",
       "      <td>일진하이솔루스</td>\n",
       "      <td>32650.0</td>\n",
       "      <td>900.0</td>\n",
       "      <td>500.0</td>\n",
       "      <td>53847.0</td>\n",
       "      <td>33000.0</td>\n",
       "      <td>31900.0</td>\n",
       "    </tr>\n",
       "    <tr>\n",
       "      <th>199</th>\n",
       "      <td>율촌화학</td>\n",
       "      <td>47350.0</td>\n",
       "      <td>950.0</td>\n",
       "      <td>500.0</td>\n",
       "      <td>108785.0</td>\n",
       "      <td>47600.0</td>\n",
       "      <td>46050.0</td>\n",
       "    </tr>\n",
       "  </tbody>\n",
       "</table>\n",
       "<p>200 rows × 7 columns</p>\n",
       "</div>"
      ],
      "text/plain": [
       "            종목명       현재가      전일비     액면가         거래량        고가        저가\n",
       "0          삼성전자   63600.0   1400.0   100.0  11937208.0   63700.0   62400.0\n",
       "1      LG에너지솔루션  548000.0  21000.0   500.0    365173.0  549000.0  531000.0\n",
       "2        SK하이닉스   92900.0   1200.0  5000.0   1618236.0   93400.0   91600.0\n",
       "3      삼성바이오로직스  806000.0  12000.0  2500.0     41024.0  810000.0  795000.0\n",
       "4          LG화학  717000.0  43000.0  5000.0    382670.0  728000.0  675000.0\n",
       "..          ...       ...      ...     ...         ...       ...       ...\n",
       "195  KBSTAR 200   32985.0    625.0     0.0     71991.0   33055.0   32455.0\n",
       "196          DL   58000.0    900.0  5000.0     45151.0   58500.0   57100.0\n",
       "197      동원시스템즈   41500.0    900.0  5000.0     19923.0   41700.0   40450.0\n",
       "198     일진하이솔루스   32650.0    900.0   500.0     53847.0   33000.0   31900.0\n",
       "199        율촌화학   47350.0    950.0   500.0    108785.0   47600.0   46050.0\n",
       "\n",
       "[200 rows x 7 columns]"
      ]
     },
     "execution_count": 17,
     "metadata": {},
     "output_type": "execute_result"
    }
   ],
   "source": [
    "kospi_df"
   ]
  },
  {
   "cell_type": "code",
   "execution_count": 21,
   "id": "94c6df0f",
   "metadata": {},
   "outputs": [
    {
     "data": {
      "text/plain": [
       "종목명    0\n",
       "현재가    0\n",
       "전일비    0\n",
       "액면가    0\n",
       "거래량    0\n",
       "고가     0\n",
       "저가     0\n",
       "dtype: int64"
      ]
     },
     "execution_count": 21,
     "metadata": {},
     "output_type": "execute_result"
    }
   ],
   "source": [
    "kospi_df.isna().sum()"
   ]
  },
  {
   "cell_type": "code",
   "execution_count": 22,
   "id": "10543668",
   "metadata": {},
   "outputs": [
    {
     "name": "stdout",
     "output_type": "stream",
     "text": [
      "<class 'pandas.core.frame.DataFrame'>\n",
      "RangeIndex: 200 entries, 0 to 199\n",
      "Data columns (total 7 columns):\n",
      " #   Column  Non-Null Count  Dtype  \n",
      "---  ------  --------------  -----  \n",
      " 0   종목명     200 non-null    object \n",
      " 1   현재가     200 non-null    float64\n",
      " 2   전일비     200 non-null    float64\n",
      " 3   액면가     200 non-null    float64\n",
      " 4   거래량     200 non-null    float64\n",
      " 5   고가      200 non-null    float64\n",
      " 6   저가      200 non-null    float64\n",
      "dtypes: float64(6), object(1)\n",
      "memory usage: 11.1+ KB\n"
     ]
    }
   ],
   "source": [
    "kospi_df.info()"
   ]
  },
  {
   "cell_type": "code",
   "execution_count": 25,
   "id": "1f14a3a6",
   "metadata": {},
   "outputs": [],
   "source": [
    "from sklearn.preprocessing import LabelEncoder\n",
    "from sklearn.preprocessing import OneHotEncoder\n"
   ]
  },
  {
   "cell_type": "code",
   "execution_count": null,
   "id": "9c5f3359",
   "metadata": {},
   "outputs": [],
   "source": [
    "encoder = "
   ]
  },
  {
   "cell_type": "code",
   "execution_count": null,
   "id": "a484d18f",
   "metadata": {},
   "outputs": [],
   "source": []
  }
 ],
 "metadata": {
  "kernelspec": {
   "display_name": "Python 3 (ipykernel)",
   "language": "python",
   "name": "python3"
  },
  "language_info": {
   "codemirror_mode": {
    "name": "ipython",
    "version": 3
   },
   "file_extension": ".py",
   "mimetype": "text/x-python",
   "name": "python",
   "nbconvert_exporter": "python",
   "pygments_lexer": "ipython3",
   "version": "3.9.13"
  }
 },
 "nbformat": 4,
 "nbformat_minor": 5
}
