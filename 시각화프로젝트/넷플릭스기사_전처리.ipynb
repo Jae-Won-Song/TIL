{
 "cells": [
  {
   "cell_type": "code",
   "execution_count": 2,
   "id": "07b20e39",
   "metadata": {},
   "outputs": [],
   "source": [
    "# 워드클라우드 생성 패키지\n",
    "from wordcloud import WordCloud\n",
    "\n",
    "# 워드클라우드 모양을 변형시키고자 하는 이미지 활용에 사용되는 패키지\n",
    "from PIL import Image\n",
    "\n",
    "# 그래프 출력 패키지\n",
    "import matplotlib.pyplot as plt\n",
    "\n",
    "# 형태소 분석기 => 사용하기 위해 java, \n",
    "from konlpy.tag import Okt\n",
    "okt = Okt()\n",
    "\n",
    "# 데이터 핸들링\n",
    "import pandas as pd\n",
    "# 수치 연산 패키지\n",
    "import numpy as np\n",
    "# csv파일 윈도우에 저장\n",
    "import os"
   ]
  },
  {
   "cell_type": "code",
   "execution_count": 11,
   "id": "3a324210",
   "metadata": {},
   "outputs": [],
   "source": [
    "nflx_df_1 = pd.read_csv('./NFLX_NEWS_0101~0131.csv')"
   ]
  },
  {
   "cell_type": "code",
   "execution_count": 13,
   "id": "5739925a",
   "metadata": {
    "scrolled": true
   },
   "outputs": [
    {
     "data": {
      "text/plain": [
       "뉴스 식별자                  0\n",
       "일자                      0\n",
       "언론사                     0\n",
       "기고자                    88\n",
       "제목                      0\n",
       "통합 분류1                  0\n",
       "통합 분류2                490\n",
       "통합 분류3                963\n",
       "사건/사고 분류1            2148\n",
       "사건/사고 분류2            2305\n",
       "사건/사고 분류3            2337\n",
       "인물                    447\n",
       "위치                    197\n",
       "기관                      0\n",
       "키워드                     0\n",
       "특성추출(가중치순 상위 50개)       0\n",
       "본문                      0\n",
       "URL                     4\n",
       "분석제외 여부              2248\n",
       "dtype: int64"
      ]
     },
     "execution_count": 13,
     "metadata": {},
     "output_type": "execute_result"
    }
   ],
   "source": [
    "nflx_df_1.isna().sum()"
   ]
  },
  {
   "cell_type": "code",
   "execution_count": 26,
   "id": "9b6faa3c",
   "metadata": {},
   "outputs": [
    {
     "data": {
      "text/plain": [
       "제목     0\n",
       "키워드    0\n",
       "dtype: int64"
      ]
     },
     "execution_count": 26,
     "metadata": {},
     "output_type": "execute_result"
    }
   ],
   "source": [
    "nflx_df_1.isna().sum()"
   ]
  },
  {
   "cell_type": "code",
   "execution_count": 23,
   "id": "f1584bd6",
   "metadata": {},
   "outputs": [
    {
     "ename": "KeyError",
     "evalue": "\"['뉴스 식별자', '일자', '언론사', '기고자', '통합 분류1', '통합 분류2', '통합 분류3', '사건/사고 분류1', '사건/사고 분류2', '사건/사고 분류3', '인물', '위치', '기관', '특성추출(가중치순 상위 50개)', '본문', 'URL', '분석제외 여부'] not found in axis\"",
     "output_type": "error",
     "traceback": [
      "\u001b[1;31m---------------------------------------------------------------------------\u001b[0m",
      "\u001b[1;31mKeyError\u001b[0m                                  Traceback (most recent call last)",
      "\u001b[1;32m~\\AppData\\Local\\Temp\\ipykernel_22332\\224289833.py\u001b[0m in \u001b[0;36m<module>\u001b[1;34m\u001b[0m\n\u001b[1;32m----> 1\u001b[1;33m nflx_df_1.drop(['뉴스 식별자', '일자', '언론사', '기고자', '통합 분류1', '통합 분류2', \n\u001b[0m\u001b[0;32m      2\u001b[0m                             \u001b[1;34m'통합 분류3'\u001b[0m\u001b[1;33m,\u001b[0m \u001b[1;34m'사건/사고 분류1'\u001b[0m\u001b[1;33m,\u001b[0m \u001b[1;34m'사건/사고 분류2'\u001b[0m\u001b[1;33m,\u001b[0m \u001b[1;34m'사건/사고 분류3'\u001b[0m\u001b[1;33m,\u001b[0m\u001b[1;33m\u001b[0m\u001b[1;33m\u001b[0m\u001b[0m\n\u001b[0;32m      3\u001b[0m                             \u001b[1;34m'인물'\u001b[0m\u001b[1;33m,\u001b[0m \u001b[1;34m'위치'\u001b[0m\u001b[1;33m,\u001b[0m \u001b[1;34m'기관'\u001b[0m\u001b[1;33m,\u001b[0m \u001b[1;34m'특성추출(가중치순 상위 50개)'\u001b[0m\u001b[1;33m,\u001b[0m \u001b[1;34m'본문'\u001b[0m\u001b[1;33m,\u001b[0m\u001b[1;33m\u001b[0m\u001b[1;33m\u001b[0m\u001b[0m\n\u001b[0;32m      4\u001b[0m                             'URL', '분석제외 여부'], axis=1)\n\u001b[0;32m      5\u001b[0m \u001b[1;33m\u001b[0m\u001b[0m\n",
      "\u001b[1;32mC:\\anaconda3\\lib\\site-packages\\pandas\\util\\_decorators.py\u001b[0m in \u001b[0;36mwrapper\u001b[1;34m(*args, **kwargs)\u001b[0m\n\u001b[0;32m    309\u001b[0m                     \u001b[0mstacklevel\u001b[0m\u001b[1;33m=\u001b[0m\u001b[0mstacklevel\u001b[0m\u001b[1;33m,\u001b[0m\u001b[1;33m\u001b[0m\u001b[1;33m\u001b[0m\u001b[0m\n\u001b[0;32m    310\u001b[0m                 )\n\u001b[1;32m--> 311\u001b[1;33m             \u001b[1;32mreturn\u001b[0m \u001b[0mfunc\u001b[0m\u001b[1;33m(\u001b[0m\u001b[1;33m*\u001b[0m\u001b[0margs\u001b[0m\u001b[1;33m,\u001b[0m \u001b[1;33m**\u001b[0m\u001b[0mkwargs\u001b[0m\u001b[1;33m)\u001b[0m\u001b[1;33m\u001b[0m\u001b[1;33m\u001b[0m\u001b[0m\n\u001b[0m\u001b[0;32m    312\u001b[0m \u001b[1;33m\u001b[0m\u001b[0m\n\u001b[0;32m    313\u001b[0m         \u001b[1;32mreturn\u001b[0m \u001b[0mwrapper\u001b[0m\u001b[1;33m\u001b[0m\u001b[1;33m\u001b[0m\u001b[0m\n",
      "\u001b[1;32mC:\\anaconda3\\lib\\site-packages\\pandas\\core\\frame.py\u001b[0m in \u001b[0;36mdrop\u001b[1;34m(self, labels, axis, index, columns, level, inplace, errors)\u001b[0m\n\u001b[0;32m   4955\u001b[0m                 \u001b[0mweight\u001b[0m  \u001b[1;36m1.0\u001b[0m     \u001b[1;36m0.8\u001b[0m\u001b[1;33m\u001b[0m\u001b[1;33m\u001b[0m\u001b[0m\n\u001b[0;32m   4956\u001b[0m         \"\"\"\n\u001b[1;32m-> 4957\u001b[1;33m         return super().drop(\n\u001b[0m\u001b[0;32m   4958\u001b[0m             \u001b[0mlabels\u001b[0m\u001b[1;33m=\u001b[0m\u001b[0mlabels\u001b[0m\u001b[1;33m,\u001b[0m\u001b[1;33m\u001b[0m\u001b[1;33m\u001b[0m\u001b[0m\n\u001b[0;32m   4959\u001b[0m             \u001b[0maxis\u001b[0m\u001b[1;33m=\u001b[0m\u001b[0maxis\u001b[0m\u001b[1;33m,\u001b[0m\u001b[1;33m\u001b[0m\u001b[1;33m\u001b[0m\u001b[0m\n",
      "\u001b[1;32mC:\\anaconda3\\lib\\site-packages\\pandas\\core\\generic.py\u001b[0m in \u001b[0;36mdrop\u001b[1;34m(self, labels, axis, index, columns, level, inplace, errors)\u001b[0m\n\u001b[0;32m   4265\u001b[0m         \u001b[1;32mfor\u001b[0m \u001b[0maxis\u001b[0m\u001b[1;33m,\u001b[0m \u001b[0mlabels\u001b[0m \u001b[1;32min\u001b[0m \u001b[0maxes\u001b[0m\u001b[1;33m.\u001b[0m\u001b[0mitems\u001b[0m\u001b[1;33m(\u001b[0m\u001b[1;33m)\u001b[0m\u001b[1;33m:\u001b[0m\u001b[1;33m\u001b[0m\u001b[1;33m\u001b[0m\u001b[0m\n\u001b[0;32m   4266\u001b[0m             \u001b[1;32mif\u001b[0m \u001b[0mlabels\u001b[0m \u001b[1;32mis\u001b[0m \u001b[1;32mnot\u001b[0m \u001b[1;32mNone\u001b[0m\u001b[1;33m:\u001b[0m\u001b[1;33m\u001b[0m\u001b[1;33m\u001b[0m\u001b[0m\n\u001b[1;32m-> 4267\u001b[1;33m                 \u001b[0mobj\u001b[0m \u001b[1;33m=\u001b[0m \u001b[0mobj\u001b[0m\u001b[1;33m.\u001b[0m\u001b[0m_drop_axis\u001b[0m\u001b[1;33m(\u001b[0m\u001b[0mlabels\u001b[0m\u001b[1;33m,\u001b[0m \u001b[0maxis\u001b[0m\u001b[1;33m,\u001b[0m \u001b[0mlevel\u001b[0m\u001b[1;33m=\u001b[0m\u001b[0mlevel\u001b[0m\u001b[1;33m,\u001b[0m \u001b[0merrors\u001b[0m\u001b[1;33m=\u001b[0m\u001b[0merrors\u001b[0m\u001b[1;33m)\u001b[0m\u001b[1;33m\u001b[0m\u001b[1;33m\u001b[0m\u001b[0m\n\u001b[0m\u001b[0;32m   4268\u001b[0m \u001b[1;33m\u001b[0m\u001b[0m\n\u001b[0;32m   4269\u001b[0m         \u001b[1;32mif\u001b[0m \u001b[0minplace\u001b[0m\u001b[1;33m:\u001b[0m\u001b[1;33m\u001b[0m\u001b[1;33m\u001b[0m\u001b[0m\n",
      "\u001b[1;32mC:\\anaconda3\\lib\\site-packages\\pandas\\core\\generic.py\u001b[0m in \u001b[0;36m_drop_axis\u001b[1;34m(self, labels, axis, level, errors, consolidate, only_slice)\u001b[0m\n\u001b[0;32m   4309\u001b[0m                 \u001b[0mnew_axis\u001b[0m \u001b[1;33m=\u001b[0m \u001b[0maxis\u001b[0m\u001b[1;33m.\u001b[0m\u001b[0mdrop\u001b[0m\u001b[1;33m(\u001b[0m\u001b[0mlabels\u001b[0m\u001b[1;33m,\u001b[0m \u001b[0mlevel\u001b[0m\u001b[1;33m=\u001b[0m\u001b[0mlevel\u001b[0m\u001b[1;33m,\u001b[0m \u001b[0merrors\u001b[0m\u001b[1;33m=\u001b[0m\u001b[0merrors\u001b[0m\u001b[1;33m)\u001b[0m\u001b[1;33m\u001b[0m\u001b[1;33m\u001b[0m\u001b[0m\n\u001b[0;32m   4310\u001b[0m             \u001b[1;32melse\u001b[0m\u001b[1;33m:\u001b[0m\u001b[1;33m\u001b[0m\u001b[1;33m\u001b[0m\u001b[0m\n\u001b[1;32m-> 4311\u001b[1;33m                 \u001b[0mnew_axis\u001b[0m \u001b[1;33m=\u001b[0m \u001b[0maxis\u001b[0m\u001b[1;33m.\u001b[0m\u001b[0mdrop\u001b[0m\u001b[1;33m(\u001b[0m\u001b[0mlabels\u001b[0m\u001b[1;33m,\u001b[0m \u001b[0merrors\u001b[0m\u001b[1;33m=\u001b[0m\u001b[0merrors\u001b[0m\u001b[1;33m)\u001b[0m\u001b[1;33m\u001b[0m\u001b[1;33m\u001b[0m\u001b[0m\n\u001b[0m\u001b[0;32m   4312\u001b[0m             \u001b[0mindexer\u001b[0m \u001b[1;33m=\u001b[0m \u001b[0maxis\u001b[0m\u001b[1;33m.\u001b[0m\u001b[0mget_indexer\u001b[0m\u001b[1;33m(\u001b[0m\u001b[0mnew_axis\u001b[0m\u001b[1;33m)\u001b[0m\u001b[1;33m\u001b[0m\u001b[1;33m\u001b[0m\u001b[0m\n\u001b[0;32m   4313\u001b[0m \u001b[1;33m\u001b[0m\u001b[0m\n",
      "\u001b[1;32mC:\\anaconda3\\lib\\site-packages\\pandas\\core\\indexes\\base.py\u001b[0m in \u001b[0;36mdrop\u001b[1;34m(self, labels, errors)\u001b[0m\n\u001b[0;32m   6659\u001b[0m         \u001b[1;32mif\u001b[0m \u001b[0mmask\u001b[0m\u001b[1;33m.\u001b[0m\u001b[0many\u001b[0m\u001b[1;33m(\u001b[0m\u001b[1;33m)\u001b[0m\u001b[1;33m:\u001b[0m\u001b[1;33m\u001b[0m\u001b[1;33m\u001b[0m\u001b[0m\n\u001b[0;32m   6660\u001b[0m             \u001b[1;32mif\u001b[0m \u001b[0merrors\u001b[0m \u001b[1;33m!=\u001b[0m \u001b[1;34m\"ignore\"\u001b[0m\u001b[1;33m:\u001b[0m\u001b[1;33m\u001b[0m\u001b[1;33m\u001b[0m\u001b[0m\n\u001b[1;32m-> 6661\u001b[1;33m                 \u001b[1;32mraise\u001b[0m \u001b[0mKeyError\u001b[0m\u001b[1;33m(\u001b[0m\u001b[1;34mf\"{list(labels[mask])} not found in axis\"\u001b[0m\u001b[1;33m)\u001b[0m\u001b[1;33m\u001b[0m\u001b[1;33m\u001b[0m\u001b[0m\n\u001b[0m\u001b[0;32m   6662\u001b[0m             \u001b[0mindexer\u001b[0m \u001b[1;33m=\u001b[0m \u001b[0mindexer\u001b[0m\u001b[1;33m[\u001b[0m\u001b[1;33m~\u001b[0m\u001b[0mmask\u001b[0m\u001b[1;33m]\u001b[0m\u001b[1;33m\u001b[0m\u001b[1;33m\u001b[0m\u001b[0m\n\u001b[0;32m   6663\u001b[0m         \u001b[1;32mreturn\u001b[0m \u001b[0mself\u001b[0m\u001b[1;33m.\u001b[0m\u001b[0mdelete\u001b[0m\u001b[1;33m(\u001b[0m\u001b[0mindexer\u001b[0m\u001b[1;33m)\u001b[0m\u001b[1;33m\u001b[0m\u001b[1;33m\u001b[0m\u001b[0m\n",
      "\u001b[1;31mKeyError\u001b[0m: \"['뉴스 식별자', '일자', '언론사', '기고자', '통합 분류1', '통합 분류2', '통합 분류3', '사건/사고 분류1', '사건/사고 분류2', '사건/사고 분류3', '인물', '위치', '기관', '특성추출(가중치순 상위 50개)', '본문', 'URL', '분석제외 여부'] not found in axis\""
     ]
    }
   ],
   "source": [
    "nflx_df_1.drop(['뉴스 식별자', '일자', '언론사', '기고자', '통합 분류1', '통합 분류2', \n",
    "                            '통합 분류3', '사건/사고 분류1', '사건/사고 분류2', '사건/사고 분류3', \n",
    "                            '인물', '위치', '기관', '특성추출(가중치순 상위 50개)', '본문', \n",
    "                            'URL', '분석제외 여부'], axis=1)\n",
    "\n",
    "\n"
   ]
  },
  {
   "cell_type": "code",
   "execution_count": 24,
   "id": "08ef3886",
   "metadata": {},
   "outputs": [
    {
     "data": {
      "text/html": [
       "<div>\n",
       "<style scoped>\n",
       "    .dataframe tbody tr th:only-of-type {\n",
       "        vertical-align: middle;\n",
       "    }\n",
       "\n",
       "    .dataframe tbody tr th {\n",
       "        vertical-align: top;\n",
       "    }\n",
       "\n",
       "    .dataframe thead th {\n",
       "        text-align: right;\n",
       "    }\n",
       "</style>\n",
       "<table border=\"1\" class=\"dataframe\">\n",
       "  <thead>\n",
       "    <tr style=\"text-align: right;\">\n",
       "      <th></th>\n",
       "      <th>제목</th>\n",
       "      <th>키워드</th>\n",
       "    </tr>\n",
       "  </thead>\n",
       "  <tbody>\n",
       "    <tr>\n",
       "      <th>0</th>\n",
       "      <td>크레디트스위스 \"테슬라만한 기업 없다 지금이 매수 기회\" [강영연의 뉴욕오프닝]</td>\n",
       "      <td>크레디트스위스,테슬라,기업,매수,기회,강영연,뉴욕오프닝,기사,글로벌마켓,최대,해외,...</td>\n",
       "    </tr>\n",
       "    <tr>\n",
       "      <th>1</th>\n",
       "      <td>\"돈자랑, 명품자랑 좀 그만 했으면\" 송지아 압도적 1위 굴욕 2위는 이다인</td>\n",
       "      <td>돈자랑,명품자랑,송지아,압도,굴욕,2위,이다,명품,가품,짝퉁,착용,논란,활동,중단,...</td>\n",
       "    </tr>\n",
       "    <tr>\n",
       "      <th>2</th>\n",
       "      <td>코로나19 속 두번째 설...'집콕'은 이제 국룰이 됐다</td>\n",
       "      <td>코로나19,코로나19,번째,집콕,국룰,숫자,열차,명절,풍경,고속도,통행,절반,명절,...</td>\n",
       "    </tr>\n",
       "    <tr>\n",
       "      <th>3</th>\n",
       "      <td>가입자 수 한계 부딪친 넷플릭스...돌파구는 게임 결합요금제?</td>\n",
       "      <td>가입자,한계,넷플릭스,돌파구,게임,결합요금,가입자,예측,시장,예상,3분,순수,OTT...</td>\n",
       "    </tr>\n",
       "    <tr>\n",
       "      <th>4</th>\n",
       "      <td>넷플릭스 ‘지금 우리 학교는’, TV쇼 시리즈 전세계 1위.</td>\n",
       "      <td>넷플릭스,학교,TV,시리즈,세계,학교,시리즈,넷플릭스,TV,시리즈,1위,차지,30일...</td>\n",
       "    </tr>\n",
       "    <tr>\n",
       "      <th>...</th>\n",
       "      <td>...</td>\n",
       "      <td>...</td>\n",
       "    </tr>\n",
       "    <tr>\n",
       "      <th>2345</th>\n",
       "      <td>왓챠 떠난 '왕좌의 게임' 넷플 디플 벅찬데 '더 센 놈' 온다</td>\n",
       "      <td>왕좌,게임,넷플,디플,한국,론칭,HBO맥스,OTT,서비스,차례,종료,OTT,온라인,...</td>\n",
       "    </tr>\n",
       "    <tr>\n",
       "      <th>2346</th>\n",
       "      <td>[디지털 혁신의 시대로] ③ 올해도 'K콘텐츠' 글로벌 열풍 이어간다</td>\n",
       "      <td>K콘텐츠,글로벌,열풍,사진,게티이미지뱅크,게임,오징어,K콘텐츠,세계적,인기,2022...</td>\n",
       "    </tr>\n",
       "    <tr>\n",
       "      <th>2347</th>\n",
       "      <td>[최현주의 밥상+머리] 새해에 마주할 어떤 친구들에 대하여</td>\n",
       "      <td>새해,친구들,욕심,가시,손아귀,백석,돌발퀴즈,힌트,시인,포함,세지,파리,만큼,나조반...</td>\n",
       "    </tr>\n",
       "    <tr>\n",
       "      <th>2348</th>\n",
       "      <td>[사설] 역경을 희망으로 극복하고 화해와 통합의 시대 열자</td>\n",
       "      <td>역경,희망,극복,화해,통합,시대,열자,일상,회복,사람,세상,2022년,새해,시작,어...</td>\n",
       "    </tr>\n",
       "    <tr>\n",
       "      <th>2349</th>\n",
       "      <td>“거품 낀 세계경제, 또다른 충격 온다” vs “美 증시 20% 이상 오른다”</td>\n",
       "      <td>거품,세계경제,충격,vs,전문가들,전망,글로벌,경제,3년,코로나,사태,연초,글로벌,...</td>\n",
       "    </tr>\n",
       "  </tbody>\n",
       "</table>\n",
       "<p>2350 rows × 2 columns</p>\n",
       "</div>"
      ],
      "text/plain": [
       "                                                제목  \\\n",
       "0     크레디트스위스 \"테슬라만한 기업 없다 지금이 매수 기회\" [강영연의 뉴욕오프닝]   \n",
       "1       \"돈자랑, 명품자랑 좀 그만 했으면\" 송지아 압도적 1위 굴욕 2위는 이다인   \n",
       "2                  코로나19 속 두번째 설...'집콕'은 이제 국룰이 됐다   \n",
       "3               가입자 수 한계 부딪친 넷플릭스...돌파구는 게임 결합요금제?   \n",
       "4                넷플릭스 ‘지금 우리 학교는’, TV쇼 시리즈 전세계 1위.   \n",
       "...                                            ...   \n",
       "2345           왓챠 떠난 '왕좌의 게임' 넷플 디플 벅찬데 '더 센 놈' 온다   \n",
       "2346        [디지털 혁신의 시대로] ③ 올해도 'K콘텐츠' 글로벌 열풍 이어간다   \n",
       "2347              [최현주의 밥상+머리] 새해에 마주할 어떤 친구들에 대하여   \n",
       "2348              [사설] 역경을 희망으로 극복하고 화해와 통합의 시대 열자   \n",
       "2349   “거품 낀 세계경제, 또다른 충격 온다” vs “美 증시 20% 이상 오른다”   \n",
       "\n",
       "                                                    키워드  \n",
       "0     크레디트스위스,테슬라,기업,매수,기회,강영연,뉴욕오프닝,기사,글로벌마켓,최대,해외,...  \n",
       "1     돈자랑,명품자랑,송지아,압도,굴욕,2위,이다,명품,가품,짝퉁,착용,논란,활동,중단,...  \n",
       "2     코로나19,코로나19,번째,집콕,국룰,숫자,열차,명절,풍경,고속도,통행,절반,명절,...  \n",
       "3     가입자,한계,넷플릭스,돌파구,게임,결합요금,가입자,예측,시장,예상,3분,순수,OTT...  \n",
       "4     넷플릭스,학교,TV,시리즈,세계,학교,시리즈,넷플릭스,TV,시리즈,1위,차지,30일...  \n",
       "...                                                 ...  \n",
       "2345  왕좌,게임,넷플,디플,한국,론칭,HBO맥스,OTT,서비스,차례,종료,OTT,온라인,...  \n",
       "2346  K콘텐츠,글로벌,열풍,사진,게티이미지뱅크,게임,오징어,K콘텐츠,세계적,인기,2022...  \n",
       "2347  새해,친구들,욕심,가시,손아귀,백석,돌발퀴즈,힌트,시인,포함,세지,파리,만큼,나조반...  \n",
       "2348  역경,희망,극복,화해,통합,시대,열자,일상,회복,사람,세상,2022년,새해,시작,어...  \n",
       "2349  거품,세계경제,충격,vs,전문가들,전망,글로벌,경제,3년,코로나,사태,연초,글로벌,...  \n",
       "\n",
       "[2350 rows x 2 columns]"
      ]
     },
     "execution_count": 24,
     "metadata": {},
     "output_type": "execute_result"
    }
   ],
   "source": [
    "nflx_df_1"
   ]
  },
  {
   "cell_type": "code",
   "execution_count": 6,
   "id": "fbbb690e",
   "metadata": {},
   "outputs": [
    {
     "name": "stdout",
     "output_type": "stream",
     "text": [
      "C:\\Users\\송재원\\TIL\\시각화프로젝트\n"
     ]
    }
   ],
   "source": [
    "print(os.getcwd())"
   ]
  },
  {
   "cell_type": "code",
   "execution_count": 15,
   "id": "0478f4ed",
   "metadata": {},
   "outputs": [
    {
     "ename": "FileNotFoundError",
     "evalue": "[WinError 3] 지정된 경로를 찾을 수 없습니다: 'C:/Users/TECH2_25/TIL'",
     "output_type": "error",
     "traceback": [
      "\u001b[1;31m---------------------------------------------------------------------------\u001b[0m",
      "\u001b[1;31mFileNotFoundError\u001b[0m                         Traceback (most recent call last)",
      "\u001b[1;32m~\\AppData\\Local\\Temp\\ipykernel_22332\\180569655.py\u001b[0m in \u001b[0;36m<module>\u001b[1;34m\u001b[0m\n\u001b[0;32m      1\u001b[0m \u001b[1;31m# 현재 작업 디렉토리 변경\u001b[0m\u001b[1;33m\u001b[0m\u001b[1;33m\u001b[0m\u001b[0m\n\u001b[1;32m----> 2\u001b[1;33m \u001b[0mos\u001b[0m\u001b[1;33m.\u001b[0m\u001b[0mchdir\u001b[0m\u001b[1;33m(\u001b[0m\u001b[1;34m'C:/Users/TECH2_25/TIL'\u001b[0m\u001b[1;33m)\u001b[0m\u001b[1;33m\u001b[0m\u001b[1;33m\u001b[0m\u001b[0m\n\u001b[0m\u001b[0;32m      3\u001b[0m \u001b[1;33m\u001b[0m\u001b[0m\n\u001b[0;32m      4\u001b[0m \u001b[1;31m# ntfl_df 파일을 C:/Users/TECH2_25/TIL 디렉토리에 저장\u001b[0m\u001b[1;33m\u001b[0m\u001b[1;33m\u001b[0m\u001b[0m\n\u001b[0;32m      5\u001b[0m \u001b[1;31m# ntfl_df.to_csv('my_ntfl_df.csv')\u001b[0m\u001b[1;33m\u001b[0m\u001b[1;33m\u001b[0m\u001b[0m\n",
      "\u001b[1;31mFileNotFoundError\u001b[0m: [WinError 3] 지정된 경로를 찾을 수 없습니다: 'C:/Users/TECH2_25/TIL'"
     ]
    }
   ],
   "source": [
    "\n",
    "# 현재 작업 디렉토리 변경\n",
    "os.chdir('C:/Users/TECH2_25/TIL')\n",
    "\n",
    "# ntfl_df 파일을 C:/Users/TECH2_25/TIL 디렉토리에 저장\n",
    "# ntfl_df.to_csv('my_ntfl_df.csv')\n"
   ]
  },
  {
   "cell_type": "code",
   "execution_count": 16,
   "id": "61b1a80e",
   "metadata": {},
   "outputs": [
    {
     "name": "stdout",
     "output_type": "stream",
     "text": [
      "C:\\Users\\송재원\\TIL\\시각화프로젝트\n"
     ]
    }
   ],
   "source": [
    "print(os.getcwd())"
   ]
  }
 ],
 "metadata": {
  "kernelspec": {
   "display_name": "Python 3 (ipykernel)",
   "language": "python",
   "name": "python3"
  },
  "language_info": {
   "codemirror_mode": {
    "name": "ipython",
    "version": 3
   },
   "file_extension": ".py",
   "mimetype": "text/x-python",
   "name": "python",
   "nbconvert_exporter": "python",
   "pygments_lexer": "ipython3",
   "version": "3.9.13"
  }
 },
 "nbformat": 4,
 "nbformat_minor": 5
}
