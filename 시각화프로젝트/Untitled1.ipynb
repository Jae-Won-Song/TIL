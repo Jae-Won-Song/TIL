{
 "cells": [
  {
   "cell_type": "code",
   "execution_count": 49,
   "id": "a9f76daa",
   "metadata": {},
   "outputs": [
    {
     "name": "stdout",
     "output_type": "stream",
     "text": [
      "\n",
      "<!DOCTYPE html>\n",
      "\n",
      "<html lang=\"en\">\n",
      "<head>\n",
      "<title>네이버 웹툰</title>\n",
      "<link href=\"https://ssl.pstatic.net/static/m/comic/im/favicon/1804/webtoon_favicon_32x32.ico\" rel=\"shortcut icon\" type=\"image/x-icon\"/>\n",
      "<meta charset=\"utf-8\"/>\n",
      "<meta content=\"ie=edge\" http-equiv=\"x-ua-compatible\"/>\n",
      "<meta content=\"article\" property=\"og:type\"/>\n",
      "<meta content=\"네이버 웹툰\" property=\"og:article:author\"/>\n",
      "<meta content=\"https://comic.naver.com\" property=\"og:article:author:url\"/>\n",
      "<meta content=\"\" property=\"og:title\"/>\n",
      "<meta content=\"https://ssl.pstatic.net/static/comic/images/og_tag_v2.png\" property=\"og:image\"/>\n",
      "<meta content=\"http://comic.naver.com/indexnull\" property=\"og:url\"/>\n",
      "<meta content=\"매일매일 새로운 재미, 네이버 웹툰.\" property=\"og:description\"/>\n",
      "<script>\n",
      "\t\tif (/MSIE \\d|Trident.*rv:/.test(navigator.userAgent)) {\n",
      "\t\t\twindow.location = 'microsoft-edge:' + window.location;\n",
      "\t\t\tsetTimeout(function () {\n",
      "\t\t\t\twindow.location = 'https://go.microsoft.com/fwlink/?linkid=2135547';\n",
      "\t\t\t}, 1);\n",
      "\t\t}\n",
      "\t</script>\n",
      "<script async=\"\" src=\"https://ssl.pstatic.net/tveta/libs/glad/prod/gfp-core.js\"></script>\n",
      "<script>\n",
      "\t\tvar ccsrv = 'cc.naver.com';\n",
      "\t\twindow.gladsdk = window.gladsdk || { cmd: [] };\n",
      "\t</script>\n",
      "</head>\n",
      "<body>\n",
      "<div id=\"root\"></div>\n",
      "</body>\n",
      "<script src=\"/runtime-330f5117552b0703a343.js\" type=\"text/javascript\"></script>\n",
      "<script src=\"/vendor-react-d37d9c657a271200d9cf.js\" type=\"text/javascript\"></script>\n",
      "<script src=\"/vendor-react-common-894dd08454440870cea0.js\" type=\"text/javascript\"></script>\n",
      "<script src=\"/vendor-common-0b0b0cc3031d3b0a1965.js\" type=\"text/javascript\"></script>\n",
      "<script src=\"/vendor-log-8df3dc520d958957bcbd.js\" type=\"text/javascript\"></script>\n",
      "<script src=\"/router-4a1df355348c2657e193.js\" type=\"text/javascript\"></script>\n",
      "</html>\n",
      "\n"
     ]
    }
   ],
   "source": [
    "import requests\n",
    "from bs4 import BeautifulSoup\n",
    "\n",
    "url = 'https://comic.naver.com/index'\n",
    "response = requests.get(url)\n",
    "soup = BeautifulSoup(response.text, 'html.parser')\n",
    "\n",
    "print(soup)"
   ]
  },
  {
   "cell_type": "code",
   "execution_count": null,
   "id": "d784f607",
   "metadata": {},
   "outputs": [],
   "source": []
  }
 ],
 "metadata": {
  "kernelspec": {
   "display_name": "Python 3 (ipykernel)",
   "language": "python",
   "name": "python3"
  },
  "language_info": {
   "codemirror_mode": {
    "name": "ipython",
    "version": 3
   },
   "file_extension": ".py",
   "mimetype": "text/x-python",
   "name": "python",
   "nbconvert_exporter": "python",
   "pygments_lexer": "ipython3",
   "version": "3.9.13"
  }
 },
 "nbformat": 4,
 "nbformat_minor": 5
}
